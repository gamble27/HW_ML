{
 "cells": [
  {
   "cell_type": "code",
   "execution_count": 1,
   "metadata": {
    "collapsed": true,
    "pycharm": {
     "is_executing": false
    }
   },
   "outputs": [],
   "source": [
    "import numpy as np\n",
    "import matplotlib.pyplot as plt\n",
    "import pandas as pd\n",
    "%matplotlib inline"
   ]
  },
  {
   "cell_type": "markdown",
   "source": [
    "### 2"
   ],
   "metadata": {
    "collapsed": false,
    "pycharm": {
     "name": "#%% md\n",
     "is_executing": false
    }
   }
  },
  {
   "cell_type": "code",
   "execution_count": 2,
   "outputs": [],
   "source": [
    "x = np.random.normal(size=(2000,1))\n",
    "z = np.random.standard_cauchy(size=(2000,1))"
   ],
   "metadata": {
    "collapsed": false,
    "pycharm": {
     "name": "#%%\n",
     "is_executing": false
    }
   }
  },
  {
   "cell_type": "code",
   "execution_count": 3,
   "outputs": [],
   "source": [
    "# conditional indices of arrays \n",
    "\n",
    "x1 = np.argwhere(np.abs(x)>1)\n",
    "x3 = np.argwhere(np.abs(x)>3)\n",
    "\n",
    "z1 = np.argwhere(np.abs(z)>1)\n",
    "z3 = np.argwhere(np.abs(z)>3)"
   ],
   "metadata": {
    "collapsed": false,
    "pycharm": {
     "name": "#%%\n",
     "is_executing": false
    }
   }
  },
  {
   "cell_type": "code",
   "execution_count": 4,
   "outputs": [
    {
     "name": "stdout",
     "text": [
      "|x|>1 : 611\n",
      "|x|>3 : 1\n",
      "|z|>1 : 1051\n",
      "|z|>3 : 433\n"
     ],
     "output_type": "stream"
    }
   ],
   "source": [
    "print(f'|x|>1 : {x1.shape[0]}')\n",
    "print(f'|x|>3 : {x3.shape[0]}')\n",
    "\n",
    "print(f'|z|>1 : {z1.shape[0]}')\n",
    "print(f'|z|>3 : {z3.shape[0]}')\n"
   ],
   "metadata": {
    "collapsed": false,
    "pycharm": {
     "name": "#%%\n",
     "is_executing": false
    }
   }
  },
  {
   "cell_type": "markdown",
   "source": [
    "### 3"
   ],
   "metadata": {
    "collapsed": false
   }
  },
  {
   "cell_type": "code",
   "execution_count": 5,
   "outputs": [
    {
     "data": {
      "text/plain": "(array([  1.,   0.,   2.,   6.,   4.,  11.,  24.,  33.,  50.,  77.,  87.,\n        113., 137., 140., 138., 168., 197., 181., 144., 122.,  89.,  76.,\n         59.,  51.,  32.,  27.,  13.,   8.,   4.,   6.]),\n array([-3.30104472, -3.09335589, -2.88566705, -2.67797821, -2.47028938,\n        -2.26260054, -2.05491171, -1.84722287, -1.63953403, -1.4318452 ,\n        -1.22415636, -1.01646752, -0.80877869, -0.60108985, -0.39340101,\n        -0.18571218,  0.02197666,  0.2296655 ,  0.43735433,  0.64504317,\n         0.85273201,  1.06042084,  1.26810968,  1.47579852,  1.68348735,\n         1.89117619,  2.09886503,  2.30655386,  2.5142427 ,  2.72193154,\n         2.92962037]),\n <a list of 30 Patch objects>)"
     },
     "metadata": {},
     "output_type": "execute_result",
     "execution_count": 5
    },
    {
     "data": {
      "text/plain": "<Figure size 432x288 with 1 Axes>",
      "image/png": "[encoded data removed]"
     },
     "metadata": {
      "needs_background": "light"
     },
     "output_type": "display_data"
    }
   ],
   "source": [
    "plt.hist(x,bins=30)"
   ],
   "metadata": {
    "collapsed": false,
    "pycharm": {
     "name": "#%%\n",
     "is_executing": false
    }
   }
  },
  {
   "cell_type": "code",
   "execution_count": 6,
   "outputs": [
    {
     "data": {
      "text/plain": "(array([1.000e+00, 0.000e+00, 1.000e+00, 0.000e+00, 0.000e+00, 3.000e+00,\n        1.000e+00, 1.000e+00, 1.000e+00, 0.000e+00, 6.000e+00, 1.000e+00,\n        9.000e+00, 2.800e+01, 1.642e+03, 2.520e+02, 1.800e+01, 1.300e+01,\n        4.000e+00, 5.000e+00, 3.000e+00, 3.000e+00, 1.000e+00, 0.000e+00,\n        1.000e+00, 0.000e+00, 0.000e+00, 0.000e+00, 0.000e+00, 0.000e+00,\n        0.000e+00, 2.000e+00, 1.000e+00, 0.000e+00, 0.000e+00, 0.000e+00,\n        0.000e+00, 0.000e+00, 1.000e+00, 0.000e+00, 0.000e+00, 0.000e+00,\n        0.000e+00, 0.000e+00, 0.000e+00, 0.000e+00, 0.000e+00, 0.000e+00,\n        0.000e+00, 0.000e+00, 0.000e+00, 0.000e+00, 0.000e+00, 0.000e+00,\n        1.000e+00, 0.000e+00, 0.000e+00, 0.000e+00, 0.000e+00, 0.000e+00,\n        0.000e+00, 0.000e+00, 0.000e+00, 0.000e+00, 0.000e+00, 0.000e+00,\n        0.000e+00, 0.000e+00, 0.000e+00, 0.000e+00, 0.000e+00, 0.000e+00,\n        0.000e+00, 0.000e+00, 0.000e+00, 0.000e+00, 0.000e+00, 0.000e+00,\n        0.000e+00, 0.000e+00, 0.000e+00, 0.000e+00, 0.000e+00, 0.000e+00,\n        0.000e+00, 0.000e+00, 0.000e+00, 0.000e+00, 0.000e+00, 0.000e+00,\n        0.000e+00, 0.000e+00, 0.000e+00, 0.000e+00, 0.000e+00, 0.000e+00,\n        0.000e+00, 0.000e+00, 0.000e+00, 1.000e+00]),\n array([-190.53773798, -177.68425687, -164.83077576, -151.97729465,\n        -139.12381353, -126.27033242, -113.41685131, -100.5633702 ,\n         -87.70988909,  -74.85640797,  -62.00292686,  -49.14944575,\n         -36.29596464,  -23.44248352,  -10.58900241,    2.2644787 ,\n          15.11795981,   27.97144092,   40.82492204,   53.67840315,\n          66.53188426,   79.38536537,   92.23884648,  105.0923276 ,\n         117.94580871,  130.79928982,  143.65277093,  156.50625205,\n         169.35973316,  182.21321427,  195.06669538,  207.92017649,\n         220.77365761,  233.62713872,  246.48061983,  259.33410094,\n         272.18758206,  285.04106317,  297.89454428,  310.74802539,\n         323.6015065 ,  336.45498762,  349.30846873,  362.16194984,\n         375.01543095,  387.86891207,  400.72239318,  413.57587429,\n         426.4293554 ,  439.28283651,  452.13631763,  464.98979874,\n         477.84327985,  490.69676096,  503.55024207,  516.40372319,\n         529.2572043 ,  542.11068541,  554.96416652,  567.81764764,\n         580.67112875,  593.52460986,  606.37809097,  619.23157208,\n         632.0850532 ,  644.93853431,  657.79201542,  670.64549653,\n         683.49897765,  696.35245876,  709.20593987,  722.05942098,\n         734.91290209,  747.76638321,  760.61986432,  773.47334543,\n         786.32682654,  799.18030766,  812.03378877,  824.88726988,\n         837.74075099,  850.5942321 ,  863.44771322,  876.30119433,\n         889.15467544,  902.00815655,  914.86163766,  927.71511878,\n         940.56859989,  953.422081  ,  966.27556211,  979.12904323,\n         991.98252434, 1004.83600545, 1017.68948656, 1030.54296767,\n        1043.39644879, 1056.2499299 , 1069.10341101, 1081.95689212,\n        1094.81037324]),\n <a list of 100 Patch objects>)"
     },
     "metadata": {},
     "output_type": "execute_result",
     "execution_count": 6
    },
    {
     "data": {
      "text/plain": "<Figure size 432x288 with 1 Axes>",
      "image/png": "[encoded data removed]"
     },
     "metadata": {
      "needs_background": "light"
     },
     "output_type": "display_data"
    }
   ],
   "source": [
    "plt.hist(z, bins=100, orientation='horizontal')"
   ],
   "metadata": {
    "collapsed": false,
    "pycharm": {
     "name": "#%%\n",
     "is_executing": false
    }
   }
  },
  {
   "cell_type": "markdown",
   "source": [
    "### 5 mean, sd"
   ],
   "metadata": {
    "collapsed": false
   }
  },
  {
   "cell_type": "code",
   "execution_count": null,
   "outputs": [],
   "source": [
    "print(f'')"
   ],
   "metadata": {
    "collapsed": false,
    "pycharm": {
     "name": "#%%\n"
    }
   }
  },
  {
   "cell_type": "markdown",
   "source": [
    "### 5"
   ],
   "metadata": {
    "collapsed": false
   }
  },
  {
   "cell_type": "code",
   "execution_count": null,
   "outputs": [],
   "source": [
    "\n"
   ],
   "metadata": {
    "collapsed": false,
    "pycharm": {
     "name": "#%%\n"
    }
   }
  }
 ],
 "metadata": {
  "kernelspec": {
   "display_name": "Python 3",
   "language": "python",
   "name": "python3"
  },
  "language_info": {
   "codemirror_mode": {
    "name": "ipython",
    "version": 2
   },
   "file_extension": ".py",
   "mimetype": "text/x-python",
   "name": "python",
   "nbconvert_exporter": "python",
   "pygments_lexer": "ipython2",
   "version": "2.7.6"
  },
  "pycharm": {
   "stem_cell": {
    "cell_type": "raw",
    "source": [],
    "metadata": {
     "collapsed": false
    }
   }
  }
 },
 "nbformat": 4,
 "nbformat_minor": 0
}