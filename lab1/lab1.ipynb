{
  "nbformat": 4,
  "nbformat_minor": 0,
  "metadata": {
    "kernelspec": {
      "display_name": "PyCharm (CPI)",
      "language": "python",
      "name": "pycharm-8300f7de"
    },
    "language_info": {
      "codemirror_mode": {
        "name": "ipython",
        "version": 3
      },
      "file_extension": ".py",
      "mimetype": "text/x-python",
      "name": "python",
      "nbconvert_exporter": "python",
      "pygments_lexer": "ipython3",
      "version": "3.6.8"
    },
    "pycharm": {
      "stem_cell": {
        "cell_type": "raw",
        "metadata": {
          "collapsed": false
        },
        "source": []
      }
    },
    "colab": {
      "name": "lab1.ipynb",
      "provenance": [],
      "collapsed_sections": []
    }
  },
  "cells": [
    {
      "cell_type": "code",
      "metadata": {
        "pycharm": {
          "is_executing": false
        },
        "id": "1U45rQ1671Qh",
        "colab_type": "code",
        "colab": {}
      },
      "source": [
        "import numpy as np\n",
        "import pandas as pd\n",
        "import matplotlib.pyplot as plt\n",
        "import seaborn as sns\n",
        "import sklearn\n",
        "\n",
        "from sklearn.model_selection import train_test_split\n",
        "from sklearn import decomposition as decomp\n",
        "from sklearn import metrics\n",
        "from sklearn.feature_selection import f_regression\n",
        "\n",
        "\n",
        "from statsmodels.stats.outliers_influence import variance_inflation_factor as vif\n",
        "from statsmodels.regression import linear_model as lm\n",
        "from statsmodels.multivariate import pca\n",
        "\n",
        "%matplotlib inline"
      ],
      "execution_count": 0,
      "outputs": []
    },
    {
      "cell_type": "markdown",
      "metadata": {
        "pycharm": {
          "name": "#%% md\n"
        },
        "id": "TBfChUDz71RG",
        "colab_type": "text"
      },
      "source": [
        "## Upload the data, split variables and response"
      ]
    },
    {
      "cell_type": "code",
      "metadata": {
        "id": "jZ6LDjlP8cYX",
        "colab_type": "code",
        "outputId": "3d4abbeb-5db7-4660-863e-239932c7d57f",
        "colab": {
          "resources": {
            "http://localhost:8080/nbextensions/google.colab/files.js": {
              "data": "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",
              "ok": true,
              "headers": [
                [
                  "content-type",
                  "application/javascript"
                ]
              ],
              "status": 200,
              "status_text": ""
            }
          },
          "base_uri": "https://localhost:8080/",
          "height": 75
        }
      },
      "source": [
        "from google.colab import files\n",
        "upl = files.upload()"
      ],
      "execution_count": 90,
      "outputs": [
        {
          "output_type": "display_data",
          "data": {
            "text/html": [
              "\n",
              "     <input type=\"file\" id=\"files-9ae602ee-02e4-497d-b4bc-fe4a06280585\" name=\"files[]\" multiple disabled />\n",
              "     <output id=\"result-9ae602ee-02e4-497d-b4bc-fe4a06280585\">\n",
              "      Upload widget is only available when the cell has been executed in the\n",
              "      current browser session. Please rerun this cell to enable.\n",
              "      </output>\n",
              "      <script src=\"/nbextensions/google.colab/files.js\"></script> "
            ],
            "text/plain": [
              "<IPython.core.display.HTML object>"
            ]
          },
          "metadata": {
            "tags": []
          }
        },
        {
          "output_type": "stream",
          "text": [
            "Saving WiscLottery.csv to WiscLottery (1).csv\n"
          ],
          "name": "stdout"
        }
      ]
    },
    {
      "cell_type": "code",
      "metadata": {
        "pycharm": {
          "is_executing": false,
          "name": "#%%\n"
        },
        "id": "omkIuSBK71RQ",
        "colab_type": "code",
        "outputId": "519716a1-5ef4-4945-b7f9-4314c73a9051",
        "colab": {
          "base_uri": "https://localhost:8080/",
          "height": 203
        }
      },
      "source": [
        "df = pd.read_csv('WiscLottery.csv')\n",
        "df.tail()"
      ],
      "execution_count": 91,
      "outputs": [
        {
          "output_type": "execute_result",
          "data": {
            "text/html": [
              "<div>\n",
              "<style scoped>\n",
              "    .dataframe tbody tr th:only-of-type {\n",
              "        vertical-align: middle;\n",
              "    }\n",
              "\n",
              "    .dataframe tbody tr th {\n",
              "        vertical-align: top;\n",
              "    }\n",
              "\n",
              "    .dataframe thead th {\n",
              "        text-align: right;\n",
              "    }\n",
              "</style>\n",
              "<table border=\"1\" class=\"dataframe\">\n",
              "  <thead>\n",
              "    <tr style=\"text-align: right;\">\n",
              "      <th></th>\n",
              "      <th>ZIP</th>\n",
              "      <th>PERPERHH</th>\n",
              "      <th>MEDSCHYR</th>\n",
              "      <th>MEDHVL</th>\n",
              "      <th>PRCRENT</th>\n",
              "      <th>PRC55P</th>\n",
              "      <th>HHMEDAGE</th>\n",
              "      <th>MEDINC</th>\n",
              "      <th>SALES</th>\n",
              "      <th>POP</th>\n",
              "    </tr>\n",
              "  </thead>\n",
              "  <tbody>\n",
              "    <tr>\n",
              "      <th>45</th>\n",
              "      <td>54745</td>\n",
              "      <td>2.5</td>\n",
              "      <td>12.3</td>\n",
              "      <td>49.6</td>\n",
              "      <td>13</td>\n",
              "      <td>52</td>\n",
              "      <td>55</td>\n",
              "      <td>33.7</td>\n",
              "      <td>480.6625</td>\n",
              "      <td>1752</td>\n",
              "    </tr>\n",
              "    <tr>\n",
              "      <th>46</th>\n",
              "      <td>54758</td>\n",
              "      <td>2.7</td>\n",
              "      <td>12.6</td>\n",
              "      <td>40.7</td>\n",
              "      <td>29</td>\n",
              "      <td>46</td>\n",
              "      <td>51</td>\n",
              "      <td>41.3</td>\n",
              "      <td>2724.9625</td>\n",
              "      <td>4347</td>\n",
              "    </tr>\n",
              "    <tr>\n",
              "      <th>47</th>\n",
              "      <td>54810</td>\n",
              "      <td>2.4</td>\n",
              "      <td>12.6</td>\n",
              "      <td>58.3</td>\n",
              "      <td>21</td>\n",
              "      <td>50</td>\n",
              "      <td>55</td>\n",
              "      <td>34.8</td>\n",
              "      <td>400.6000</td>\n",
              "      <td>1765</td>\n",
              "    </tr>\n",
              "    <tr>\n",
              "      <th>48</th>\n",
              "      <td>54839</td>\n",
              "      <td>2.7</td>\n",
              "      <td>12.6</td>\n",
              "      <td>39.2</td>\n",
              "      <td>12</td>\n",
              "      <td>43</td>\n",
              "      <td>51</td>\n",
              "      <td>35.4</td>\n",
              "      <td>189.0000</td>\n",
              "      <td>280</td>\n",
              "    </tr>\n",
              "    <tr>\n",
              "      <th>49</th>\n",
              "      <td>54956</td>\n",
              "      <td>2.7</td>\n",
              "      <td>13.0</td>\n",
              "      <td>71.7</td>\n",
              "      <td>27</td>\n",
              "      <td>31</td>\n",
              "      <td>45</td>\n",
              "      <td>60.3</td>\n",
              "      <td>16779.5750</td>\n",
              "      <td>34261</td>\n",
              "    </tr>\n",
              "  </tbody>\n",
              "</table>\n",
              "</div>"
            ],
            "text/plain": [
              "      ZIP  PERPERHH  MEDSCHYR  MEDHVL  ...  HHMEDAGE  MEDINC       SALES    POP\n",
              "45  54745       2.5      12.3    49.6  ...        55    33.7    480.6625   1752\n",
              "46  54758       2.7      12.6    40.7  ...        51    41.3   2724.9625   4347\n",
              "47  54810       2.4      12.6    58.3  ...        55    34.8    400.6000   1765\n",
              "48  54839       2.7      12.6    39.2  ...        51    35.4    189.0000    280\n",
              "49  54956       2.7      13.0    71.7  ...        45    60.3  16779.5750  34261\n",
              "\n",
              "[5 rows x 10 columns]"
            ]
          },
          "metadata": {
            "tags": []
          },
          "execution_count": 91
        }
      ]
    },
    {
      "cell_type": "code",
      "metadata": {
        "id": "DuDWJkXXNI-g",
        "colab_type": "code",
        "outputId": "8a4ef0ac-58d3-43e3-90ad-39c54890342d",
        "colab": {
          "base_uri": "https://localhost:8080/",
          "height": 34
        }
      },
      "source": [
        "df.shape"
      ],
      "execution_count": 92,
      "outputs": [
        {
          "output_type": "execute_result",
          "data": {
            "text/plain": [
              "(50, 10)"
            ]
          },
          "metadata": {
            "tags": []
          },
          "execution_count": 92
        }
      ]
    },
    {
      "cell_type": "code",
      "metadata": {
        "pycharm": {
          "is_executing": false,
          "name": "#%%\n"
        },
        "scrolled": true,
        "id": "qEcJsTq371Rp",
        "colab_type": "code",
        "outputId": "a899c666-174f-454c-ab8c-80afddbd7a46",
        "colab": {
          "base_uri": "https://localhost:8080/",
          "height": 68
        }
      },
      "source": [
        "df.columns"
      ],
      "execution_count": 93,
      "outputs": [
        {
          "output_type": "execute_result",
          "data": {
            "text/plain": [
              "Index(['ZIP', 'PERPERHH', 'MEDSCHYR', 'MEDHVL', 'PRCRENT', 'PRC55P',\n",
              "       'HHMEDAGE', 'MEDINC', 'SALES', 'POP'],\n",
              "      dtype='object')"
            ]
          },
          "metadata": {
            "tags": []
          },
          "execution_count": 93
        }
      ]
    },
    {
      "cell_type": "code",
      "metadata": {
        "pycharm": {
          "is_executing": false
        },
        "id": "qRTU1PVA71Rx",
        "colab_type": "code",
        "outputId": "05c1283e-f87a-442c-ebc3-f9c984d2c2ac",
        "colab": {
          "base_uri": "https://localhost:8080/",
          "height": 120
        }
      },
      "source": [
        "y = df['SALES']\n",
        "# normalize the data\n",
        "# y = (y - y.mean()) / y.std()\n",
        "y.head()"
      ],
      "execution_count": 94,
      "outputs": [
        {
          "output_type": "execute_result",
          "data": {
            "text/plain": [
              "0     1285.4000\n",
              "1     3571.4500\n",
              "2     2407.0375\n",
              "3     1223.8250\n",
              "4    15046.4000\n",
              "Name: SALES, dtype: float64"
            ]
          },
          "metadata": {
            "tags": []
          },
          "execution_count": 94
        }
      ]
    },
    {
      "cell_type": "code",
      "metadata": {
        "pycharm": {
          "is_executing": false
        },
        "id": "vS5YtB-V71R5",
        "colab_type": "code",
        "outputId": "302f3e50-ce0c-409b-86df-2774976d47c5",
        "colab": {
          "base_uri": "https://localhost:8080/",
          "height": 203
        }
      },
      "source": [
        "x = df[['PERPERHH',  'MEDSCHYR',\n",
        "        'MEDHVL', 'PRCRENT',\n",
        "        'PRC55P', 'HHMEDAGE',\n",
        "        'MEDINC', 'POP']]\n",
        "# normalize the data\n",
        "# x = (x - x.mean()) / x.std()\n",
        "x.head()"
      ],
      "execution_count": 95,
      "outputs": [
        {
          "output_type": "execute_result",
          "data": {
            "text/html": [
              "<div>\n",
              "<style scoped>\n",
              "    .dataframe tbody tr th:only-of-type {\n",
              "        vertical-align: middle;\n",
              "    }\n",
              "\n",
              "    .dataframe tbody tr th {\n",
              "        vertical-align: top;\n",
              "    }\n",
              "\n",
              "    .dataframe thead th {\n",
              "        text-align: right;\n",
              "    }\n",
              "</style>\n",
              "<table border=\"1\" class=\"dataframe\">\n",
              "  <thead>\n",
              "    <tr style=\"text-align: right;\">\n",
              "      <th></th>\n",
              "      <th>PERPERHH</th>\n",
              "      <th>MEDSCHYR</th>\n",
              "      <th>MEDHVL</th>\n",
              "      <th>PRCRENT</th>\n",
              "      <th>PRC55P</th>\n",
              "      <th>HHMEDAGE</th>\n",
              "      <th>MEDINC</th>\n",
              "      <th>POP</th>\n",
              "    </tr>\n",
              "  </thead>\n",
              "  <tbody>\n",
              "    <tr>\n",
              "      <th>0</th>\n",
              "      <td>3.0</td>\n",
              "      <td>12.6</td>\n",
              "      <td>71.3</td>\n",
              "      <td>21</td>\n",
              "      <td>38</td>\n",
              "      <td>48</td>\n",
              "      <td>54.2</td>\n",
              "      <td>435</td>\n",
              "    </tr>\n",
              "    <tr>\n",
              "      <th>1</th>\n",
              "      <td>3.2</td>\n",
              "      <td>12.9</td>\n",
              "      <td>98.0</td>\n",
              "      <td>6</td>\n",
              "      <td>28</td>\n",
              "      <td>46</td>\n",
              "      <td>70.7</td>\n",
              "      <td>4823</td>\n",
              "    </tr>\n",
              "    <tr>\n",
              "      <th>2</th>\n",
              "      <td>2.8</td>\n",
              "      <td>12.4</td>\n",
              "      <td>58.7</td>\n",
              "      <td>25</td>\n",
              "      <td>35</td>\n",
              "      <td>45</td>\n",
              "      <td>43.6</td>\n",
              "      <td>2469</td>\n",
              "    </tr>\n",
              "    <tr>\n",
              "      <th>3</th>\n",
              "      <td>3.1</td>\n",
              "      <td>12.5</td>\n",
              "      <td>65.7</td>\n",
              "      <td>24</td>\n",
              "      <td>29</td>\n",
              "      <td>45</td>\n",
              "      <td>51.9</td>\n",
              "      <td>2051</td>\n",
              "    </tr>\n",
              "    <tr>\n",
              "      <th>4</th>\n",
              "      <td>2.6</td>\n",
              "      <td>13.1</td>\n",
              "      <td>96.7</td>\n",
              "      <td>32</td>\n",
              "      <td>27</td>\n",
              "      <td>42</td>\n",
              "      <td>63.1</td>\n",
              "      <td>13337</td>\n",
              "    </tr>\n",
              "  </tbody>\n",
              "</table>\n",
              "</div>"
            ],
            "text/plain": [
              "   PERPERHH  MEDSCHYR  MEDHVL  PRCRENT  PRC55P  HHMEDAGE  MEDINC    POP\n",
              "0       3.0      12.6    71.3       21      38        48    54.2    435\n",
              "1       3.2      12.9    98.0        6      28        46    70.7   4823\n",
              "2       2.8      12.4    58.7       25      35        45    43.6   2469\n",
              "3       3.1      12.5    65.7       24      29        45    51.9   2051\n",
              "4       2.6      13.1    96.7       32      27        42    63.1  13337"
            ]
          },
          "metadata": {
            "tags": []
          },
          "execution_count": 95
        }
      ]
    },
    {
      "cell_type": "code",
      "metadata": {
        "id": "P2jtVW0u8yEP",
        "colab_type": "code",
        "colab": {}
      },
      "source": [
        "x_train, x_test, y_train, y_test = train_test_split(x, y, test_size=0.2, shuffle=False)"
      ],
      "execution_count": 0,
      "outputs": []
    },
    {
      "cell_type": "code",
      "metadata": {
        "pycharm": {
          "is_executing": false,
          "name": "#%%\n"
        },
        "id": "oL1eRFmW71R_",
        "colab_type": "code",
        "outputId": "e6778cd0-6323-49d2-b163-e066c7af7c61",
        "colab": {
          "base_uri": "https://localhost:8080/",
          "height": 203
        }
      },
      "source": [
        "xy = x_train.copy()\n",
        "xy['SALES'] = y_train\n",
        "xy.head()"
      ],
      "execution_count": 97,
      "outputs": [
        {
          "output_type": "execute_result",
          "data": {
            "text/html": [
              "<div>\n",
              "<style scoped>\n",
              "    .dataframe tbody tr th:only-of-type {\n",
              "        vertical-align: middle;\n",
              "    }\n",
              "\n",
              "    .dataframe tbody tr th {\n",
              "        vertical-align: top;\n",
              "    }\n",
              "\n",
              "    .dataframe thead th {\n",
              "        text-align: right;\n",
              "    }\n",
              "</style>\n",
              "<table border=\"1\" class=\"dataframe\">\n",
              "  <thead>\n",
              "    <tr style=\"text-align: right;\">\n",
              "      <th></th>\n",
              "      <th>PERPERHH</th>\n",
              "      <th>MEDSCHYR</th>\n",
              "      <th>MEDHVL</th>\n",
              "      <th>PRCRENT</th>\n",
              "      <th>PRC55P</th>\n",
              "      <th>HHMEDAGE</th>\n",
              "      <th>MEDINC</th>\n",
              "      <th>POP</th>\n",
              "      <th>SALES</th>\n",
              "    </tr>\n",
              "  </thead>\n",
              "  <tbody>\n",
              "    <tr>\n",
              "      <th>0</th>\n",
              "      <td>3.0</td>\n",
              "      <td>12.6</td>\n",
              "      <td>71.3</td>\n",
              "      <td>21</td>\n",
              "      <td>38</td>\n",
              "      <td>48</td>\n",
              "      <td>54.2</td>\n",
              "      <td>435</td>\n",
              "      <td>1285.4000</td>\n",
              "    </tr>\n",
              "    <tr>\n",
              "      <th>1</th>\n",
              "      <td>3.2</td>\n",
              "      <td>12.9</td>\n",
              "      <td>98.0</td>\n",
              "      <td>6</td>\n",
              "      <td>28</td>\n",
              "      <td>46</td>\n",
              "      <td>70.7</td>\n",
              "      <td>4823</td>\n",
              "      <td>3571.4500</td>\n",
              "    </tr>\n",
              "    <tr>\n",
              "      <th>2</th>\n",
              "      <td>2.8</td>\n",
              "      <td>12.4</td>\n",
              "      <td>58.7</td>\n",
              "      <td>25</td>\n",
              "      <td>35</td>\n",
              "      <td>45</td>\n",
              "      <td>43.6</td>\n",
              "      <td>2469</td>\n",
              "      <td>2407.0375</td>\n",
              "    </tr>\n",
              "    <tr>\n",
              "      <th>3</th>\n",
              "      <td>3.1</td>\n",
              "      <td>12.5</td>\n",
              "      <td>65.7</td>\n",
              "      <td>24</td>\n",
              "      <td>29</td>\n",
              "      <td>45</td>\n",
              "      <td>51.9</td>\n",
              "      <td>2051</td>\n",
              "      <td>1223.8250</td>\n",
              "    </tr>\n",
              "    <tr>\n",
              "      <th>4</th>\n",
              "      <td>2.6</td>\n",
              "      <td>13.1</td>\n",
              "      <td>96.7</td>\n",
              "      <td>32</td>\n",
              "      <td>27</td>\n",
              "      <td>42</td>\n",
              "      <td>63.1</td>\n",
              "      <td>13337</td>\n",
              "      <td>15046.4000</td>\n",
              "    </tr>\n",
              "  </tbody>\n",
              "</table>\n",
              "</div>"
            ],
            "text/plain": [
              "   PERPERHH  MEDSCHYR  MEDHVL  PRCRENT  ...  HHMEDAGE  MEDINC    POP       SALES\n",
              "0       3.0      12.6    71.3       21  ...        48    54.2    435   1285.4000\n",
              "1       3.2      12.9    98.0        6  ...        46    70.7   4823   3571.4500\n",
              "2       2.8      12.4    58.7       25  ...        45    43.6   2469   2407.0375\n",
              "3       3.1      12.5    65.7       24  ...        45    51.9   2051   1223.8250\n",
              "4       2.6      13.1    96.7       32  ...        42    63.1  13337  15046.4000\n",
              "\n",
              "[5 rows x 9 columns]"
            ]
          },
          "metadata": {
            "tags": []
          },
          "execution_count": 97
        }
      ]
    },
    {
      "cell_type": "code",
      "metadata": {
        "id": "ZitVwVTbpkoD",
        "colab_type": "code",
        "outputId": "2161a9c5-2d69-4a58-897f-47fb07116363",
        "colab": {
          "base_uri": "https://localhost:8080/",
          "height": 34
        }
      },
      "source": [
        "y_train.var()"
      ],
      "execution_count": 98,
      "outputs": [
        {
          "output_type": "execute_result",
          "data": {
            "text/plain": [
              "68371390.30231729"
            ]
          },
          "metadata": {
            "tags": []
          },
          "execution_count": 98
        }
      ]
    },
    {
      "cell_type": "markdown",
      "metadata": {
        "id": "ILyAvJrWXPcr",
        "colab_type": "text"
      },
      "source": [
        "## Variables selection"
      ]
    },
    {
      "cell_type": "markdown",
      "metadata": {
        "pycharm": {
          "name": "#%% md\n"
        },
        "id": "LBzPRcdy71SF",
        "colab_type": "text"
      },
      "source": [
        "### Variables correlation analysis"
      ]
    },
    {
      "cell_type": "code",
      "metadata": {
        "pycharm": {
          "is_executing": false,
          "name": "#%%\n"
        },
        "id": "7NcSqS1671SH",
        "colab_type": "code",
        "colab": {}
      },
      "source": [
        "# pairplot\n",
        "def pairplot(df):\n",
        "    plt.figure(figsize=(20,20))\n",
        "    sns.pairplot(df)\n",
        "    plt.show()\n",
        "    "
      ],
      "execution_count": 0,
      "outputs": []
    },
    {
      "cell_type": "code",
      "metadata": {
        "pycharm": {
          "is_executing": false,
          "name": "#%%\n"
        },
        "id": "cBFcGaSf71SM",
        "colab_type": "code",
        "colab": {}
      },
      "source": [
        "# corrplot\n",
        "def corrplot(df):\n",
        "    # Compute the correlation matrix\n",
        "    corr = df.corr()\n",
        "    # Generate a mask for the upper triangle\n",
        "    mask = np.zeros_like(corr, dtype=np.bool)\n",
        "    mask[np.triu_indices_from(mask)] = True\n",
        "\n",
        "    # plot\n",
        "    plt.figure(figsize=(12,12))\n",
        "    sns.heatmap(corr, mask=mask, annot=True, xticklabels=True, yticklabels=True)\n",
        "    plt.show()\n",
        "\n",
        "    # make annotation manually\n",
        "    # print(*df.columns, sep='\\n')\n",
        "    "
      ],
      "execution_count": 0,
      "outputs": []
    },
    {
      "cell_type": "code",
      "metadata": {
        "pycharm": {
          "is_executing": false,
          "name": "#%%\n"
        },
        "id": "NcOuFX1t71SQ",
        "colab_type": "code",
        "colab": {}
      },
      "source": [
        "# multicollinearity test\n",
        "def vif_test(x, xy, y_name):\n",
        "    \"\"\"\n",
        "    vif > 5 => bad;\n",
        "    multicollinearity exists\n",
        "    \"\"\"\n",
        "    vif_df = pd.DataFrame()\n",
        "    vif_df[\"VIF Factor\"] = [vif(x.values, i) for i in range(x.shape[1])]\n",
        "    vif_df[\"features\"] = x.columns\n",
        "    vif_df = vif_df.round(1)\n",
        "    corr = xy.corr()\n",
        "    corr = corr[y_name]\n",
        "    corr = corr.round(3)\n",
        "    del corr[y_name]\n",
        "    vif_df[f'r({y_name}, X)'] = [corr[feature] for feature in vif_df['features']]\n",
        "    return vif_df.sort_values(by=[f'r({y_name}, X)'])"
      ],
      "execution_count": 0,
      "outputs": []
    },
    {
      "cell_type": "code",
      "metadata": {
        "pycharm": {
          "is_executing": false,
          "name": "#%%\n"
        },
        "id": "-5zVTNLz71SW",
        "colab_type": "code",
        "outputId": "168a5750-bda4-4ab7-c053-76aa4a663bbe",
        "colab": {
          "base_uri": "https://localhost:8080/",
          "height": 704
        }
      },
      "source": [
        "corrplot(x)"
      ],
      "execution_count": 0,
      "outputs": [
        {
          "output_type": "display_data",
          "data": {
            "image/png": "[encoded data removed]",
            "text/plain": [
              "<Figure size 864x864 with 2 Axes>"
            ]
          },
          "metadata": {
            "tags": []
          }
        }
      ]
    },
    {
      "cell_type": "code",
      "metadata": {
        "pycharm": {
          "is_executing": false,
          "name": "#%%\n"
        },
        "id": "AWmH4pMz71Sa",
        "colab_type": "code",
        "outputId": "b5e3cb5a-9705-4843-8a98-72139381da83",
        "colab": {
          "base_uri": "https://localhost:8080/",
          "height": 296
        }
      },
      "source": [
        "vif_test((x - x.mean())/x.std(), xy, 'SALES')"
      ],
      "execution_count": 0,
      "outputs": [
        {
          "output_type": "execute_result",
          "data": {
            "text/html": [
              "<div>\n",
              "<style scoped>\n",
              "    .dataframe tbody tr th:only-of-type {\n",
              "        vertical-align: middle;\n",
              "    }\n",
              "\n",
              "    .dataframe tbody tr th {\n",
              "        vertical-align: top;\n",
              "    }\n",
              "\n",
              "    .dataframe thead th {\n",
              "        text-align: right;\n",
              "    }\n",
              "</style>\n",
              "<table border=\"1\" class=\"dataframe\">\n",
              "  <thead>\n",
              "    <tr style=\"text-align: right;\">\n",
              "      <th></th>\n",
              "      <th>VIF Factor</th>\n",
              "      <th>features</th>\n",
              "      <th>r(SALES, X)</th>\n",
              "    </tr>\n",
              "  </thead>\n",
              "  <tbody>\n",
              "    <tr>\n",
              "      <th>0</th>\n",
              "      <td>2.7</td>\n",
              "      <td>PERPERHH</td>\n",
              "      <td>-0.263</td>\n",
              "    </tr>\n",
              "    <tr>\n",
              "      <th>4</th>\n",
              "      <td>24.8</td>\n",
              "      <td>PRC55P</td>\n",
              "      <td>-0.244</td>\n",
              "    </tr>\n",
              "    <tr>\n",
              "      <th>5</th>\n",
              "      <td>18.5</td>\n",
              "      <td>HHMEDAGE</td>\n",
              "      <td>-0.224</td>\n",
              "    </tr>\n",
              "    <tr>\n",
              "      <th>1</th>\n",
              "      <td>3.2</td>\n",
              "      <td>MEDSCHYR</td>\n",
              "      <td>0.382</td>\n",
              "    </tr>\n",
              "    <tr>\n",
              "      <th>6</th>\n",
              "      <td>6.6</td>\n",
              "      <td>MEDINC</td>\n",
              "      <td>0.382</td>\n",
              "    </tr>\n",
              "    <tr>\n",
              "      <th>3</th>\n",
              "      <td>2.9</td>\n",
              "      <td>PRCRENT</td>\n",
              "      <td>0.490</td>\n",
              "    </tr>\n",
              "    <tr>\n",
              "      <th>2</th>\n",
              "      <td>5.6</td>\n",
              "      <td>MEDHVL</td>\n",
              "      <td>0.534</td>\n",
              "    </tr>\n",
              "    <tr>\n",
              "      <th>7</th>\n",
              "      <td>2.1</td>\n",
              "      <td>POP</td>\n",
              "      <td>0.878</td>\n",
              "    </tr>\n",
              "  </tbody>\n",
              "</table>\n",
              "</div>"
            ],
            "text/plain": [
              "   VIF Factor  features  r(SALES, X)\n",
              "0         2.7  PERPERHH       -0.263\n",
              "4        24.8    PRC55P       -0.244\n",
              "5        18.5  HHMEDAGE       -0.224\n",
              "1         3.2  MEDSCHYR        0.382\n",
              "6         6.6    MEDINC        0.382\n",
              "3         2.9   PRCRENT        0.490\n",
              "2         5.6    MEDHVL        0.534\n",
              "7         2.1       POP        0.878"
            ]
          },
          "metadata": {
            "tags": []
          },
          "execution_count": 43
        }
      ]
    },
    {
      "cell_type": "code",
      "metadata": {
        "id": "PpDdQkFbfTMR",
        "colab_type": "code",
        "outputId": "bb46655c-c97e-4261-a2ef-5a9a2b4b807c",
        "colab": {
          "base_uri": "https://localhost:8080/",
          "height": 234
        }
      },
      "source": [
        "xx = x.copy()\n",
        "xx = (xx - xx.mean())/xx.std()\n",
        "del xx['PRC55P']\n",
        "del xx['MEDINC']\n",
        "vif_test(xx, xy, 'SALES')"
      ],
      "execution_count": 14,
      "outputs": [
        {
          "output_type": "execute_result",
          "data": {
            "text/html": [
              "<div>\n",
              "<style scoped>\n",
              "    .dataframe tbody tr th:only-of-type {\n",
              "        vertical-align: middle;\n",
              "    }\n",
              "\n",
              "    .dataframe tbody tr th {\n",
              "        vertical-align: top;\n",
              "    }\n",
              "\n",
              "    .dataframe thead th {\n",
              "        text-align: right;\n",
              "    }\n",
              "</style>\n",
              "<table border=\"1\" class=\"dataframe\">\n",
              "  <thead>\n",
              "    <tr style=\"text-align: right;\">\n",
              "      <th></th>\n",
              "      <th>VIF Factor</th>\n",
              "      <th>features</th>\n",
              "      <th>r(SALES, X)</th>\n",
              "    </tr>\n",
              "  </thead>\n",
              "  <tbody>\n",
              "    <tr>\n",
              "      <th>0</th>\n",
              "      <td>2.5</td>\n",
              "      <td>PERPERHH</td>\n",
              "      <td>-0.263</td>\n",
              "    </tr>\n",
              "    <tr>\n",
              "      <th>4</th>\n",
              "      <td>3.1</td>\n",
              "      <td>HHMEDAGE</td>\n",
              "      <td>-0.224</td>\n",
              "    </tr>\n",
              "    <tr>\n",
              "      <th>1</th>\n",
              "      <td>3.2</td>\n",
              "      <td>MEDSCHYR</td>\n",
              "      <td>0.382</td>\n",
              "    </tr>\n",
              "    <tr>\n",
              "      <th>3</th>\n",
              "      <td>2.8</td>\n",
              "      <td>PRCRENT</td>\n",
              "      <td>0.490</td>\n",
              "    </tr>\n",
              "    <tr>\n",
              "      <th>2</th>\n",
              "      <td>2.5</td>\n",
              "      <td>MEDHVL</td>\n",
              "      <td>0.534</td>\n",
              "    </tr>\n",
              "    <tr>\n",
              "      <th>5</th>\n",
              "      <td>2.1</td>\n",
              "      <td>POP</td>\n",
              "      <td>0.878</td>\n",
              "    </tr>\n",
              "  </tbody>\n",
              "</table>\n",
              "</div>"
            ],
            "text/plain": [
              "   VIF Factor  features  r(SALES, X)\n",
              "0         2.5  PERPERHH       -0.263\n",
              "4         3.1  HHMEDAGE       -0.224\n",
              "1         3.2  MEDSCHYR        0.382\n",
              "3         2.8   PRCRENT        0.490\n",
              "2         2.5    MEDHVL        0.534\n",
              "5         2.1       POP        0.878"
            ]
          },
          "metadata": {
            "tags": []
          },
          "execution_count": 14
        }
      ]
    },
    {
      "cell_type": "markdown",
      "metadata": {
        "id": "FwqVBOR6rsx7",
        "colab_type": "text"
      },
      "source": [
        "### Select variables\n",
        "\n",
        "1. due to high VIF and low r we kill **PRC55P** and **MEDINC**"
      ]
    },
    {
      "cell_type": "markdown",
      "metadata": {
        "id": "Odh9un9VsePy",
        "colab_type": "text"
      },
      "source": [
        "### OLS with selected variables\n",
        "\n",
        "\n",
        "\n",
        "\n",
        "\n"
      ]
    },
    {
      "cell_type": "code",
      "metadata": {
        "id": "GuWfRS5BtNey",
        "colab_type": "code",
        "colab": {
          "base_uri": "https://localhost:8080/",
          "height": 203
        },
        "outputId": "1b86c6d5-4d8d-406e-bf16-03552d136096"
      },
      "source": [
        "xx.head()"
      ],
      "execution_count": 28,
      "outputs": [
        {
          "output_type": "execute_result",
          "data": {
            "text/html": [
              "<div>\n",
              "<style scoped>\n",
              "    .dataframe tbody tr th:only-of-type {\n",
              "        vertical-align: middle;\n",
              "    }\n",
              "\n",
              "    .dataframe tbody tr th {\n",
              "        vertical-align: top;\n",
              "    }\n",
              "\n",
              "    .dataframe thead th {\n",
              "        text-align: right;\n",
              "    }\n",
              "</style>\n",
              "<table border=\"1\" class=\"dataframe\">\n",
              "  <thead>\n",
              "    <tr style=\"text-align: right;\">\n",
              "      <th></th>\n",
              "      <th>PERPERHH</th>\n",
              "      <th>MEDSCHYR</th>\n",
              "      <th>MEDHVL</th>\n",
              "      <th>PRCRENT</th>\n",
              "      <th>HHMEDAGE</th>\n",
              "      <th>POP</th>\n",
              "    </tr>\n",
              "  </thead>\n",
              "  <tbody>\n",
              "    <tr>\n",
              "      <th>0</th>\n",
              "      <td>1.404132</td>\n",
              "      <td>-0.174096</td>\n",
              "      <td>0.773304</td>\n",
              "      <td>-0.393897</td>\n",
              "      <td>-0.183435</td>\n",
              "      <td>-0.799776</td>\n",
              "    </tr>\n",
              "    <tr>\n",
              "      <th>1</th>\n",
              "      <td>2.359324</td>\n",
              "      <td>0.369953</td>\n",
              "      <td>2.226514</td>\n",
              "      <td>-1.999454</td>\n",
              "      <td>-0.666159</td>\n",
              "      <td>-0.404395</td>\n",
              "    </tr>\n",
              "    <tr>\n",
              "      <th>2</th>\n",
              "      <td>0.448940</td>\n",
              "      <td>-0.536795</td>\n",
              "      <td>0.087519</td>\n",
              "      <td>0.034252</td>\n",
              "      <td>-0.907521</td>\n",
              "      <td>-0.616502</td>\n",
              "    </tr>\n",
              "    <tr>\n",
              "      <th>3</th>\n",
              "      <td>1.881728</td>\n",
              "      <td>-0.355445</td>\n",
              "      <td>0.468511</td>\n",
              "      <td>-0.072785</td>\n",
              "      <td>-0.907521</td>\n",
              "      <td>-0.654166</td>\n",
              "    </tr>\n",
              "    <tr>\n",
              "      <th>4</th>\n",
              "      <td>-0.506252</td>\n",
              "      <td>0.732652</td>\n",
              "      <td>2.155759</td>\n",
              "      <td>0.783512</td>\n",
              "      <td>-1.631608</td>\n",
              "      <td>0.362759</td>\n",
              "    </tr>\n",
              "  </tbody>\n",
              "</table>\n",
              "</div>"
            ],
            "text/plain": [
              "   PERPERHH  MEDSCHYR    MEDHVL   PRCRENT  HHMEDAGE       POP\n",
              "0  1.404132 -0.174096  0.773304 -0.393897 -0.183435 -0.799776\n",
              "1  2.359324  0.369953  2.226514 -1.999454 -0.666159 -0.404395\n",
              "2  0.448940 -0.536795  0.087519  0.034252 -0.907521 -0.616502\n",
              "3  1.881728 -0.355445  0.468511 -0.072785 -0.907521 -0.654166\n",
              "4 -0.506252  0.732652  2.155759  0.783512 -1.631608  0.362759"
            ]
          },
          "metadata": {
            "tags": []
          },
          "execution_count": 28
        }
      ]
    },
    {
      "cell_type": "code",
      "metadata": {
        "id": "JETQ3ne3swHO",
        "colab_type": "code",
        "colab": {}
      },
      "source": [
        "x_new_train, x_new_test = train_test_split(xx, train_size=0.8, shuffle=False)"
      ],
      "execution_count": 0,
      "outputs": []
    },
    {
      "cell_type": "code",
      "metadata": {
        "id": "9RY0kFFitWZS",
        "colab_type": "code",
        "colab": {
          "base_uri": "https://localhost:8080/",
          "height": 527
        },
        "outputId": "ffbdc4a1-2bbd-4d26-df15-56e6edc4686f"
      },
      "source": [
        "m2 = lm.OLS(endog=y_train, exog=x_new_train, hasconst=True).fit()\n",
        "m2.summary()"
      ],
      "execution_count": 29,
      "outputs": [
        {
          "output_type": "execute_result",
          "data": {
            "text/html": [
              "<table class=\"simpletable\">\n",
              "<caption>OLS Regression Results</caption>\n",
              "<tr>\n",
              "  <th>Dep. Variable:</th>          <td>SALES</td>      <th>  R-squared:         </th> <td>   0.212</td>\n",
              "</tr>\n",
              "<tr>\n",
              "  <th>Model:</th>                   <td>OLS</td>       <th>  Adj. R-squared:    </th> <td>   0.096</td>\n",
              "</tr>\n",
              "<tr>\n",
              "  <th>Method:</th>             <td>Least Squares</td>  <th>  F-statistic:       </th> <td>   1.828</td>\n",
              "</tr>\n",
              "<tr>\n",
              "  <th>Date:</th>             <td>Mon, 30 Mar 2020</td> <th>  Prob (F-statistic):</th>  <td> 0.134</td> \n",
              "</tr>\n",
              "<tr>\n",
              "  <th>Time:</th>                 <td>09:11:59</td>     <th>  Log-Likelihood:    </th> <td> -412.30</td>\n",
              "</tr>\n",
              "<tr>\n",
              "  <th>No. Observations:</th>      <td>    40</td>      <th>  AIC:               </th> <td>   836.6</td>\n",
              "</tr>\n",
              "<tr>\n",
              "  <th>Df Residuals:</th>          <td>    34</td>      <th>  BIC:               </th> <td>   846.7</td>\n",
              "</tr>\n",
              "<tr>\n",
              "  <th>Df Model:</th>              <td>     5</td>      <th>                     </th>     <td> </td>   \n",
              "</tr>\n",
              "<tr>\n",
              "  <th>Covariance Type:</th>      <td>nonrobust</td>    <th>                     </th>     <td> </td>   \n",
              "</tr>\n",
              "</table>\n",
              "<table class=\"simpletable\">\n",
              "<tr>\n",
              "      <td></td>        <th>coef</th>     <th>std err</th>      <th>t</th>      <th>P>|t|</th>  <th>[0.025</th>    <th>0.975]</th>  \n",
              "</tr>\n",
              "<tr>\n",
              "  <th>PERPERHH</th> <td> -974.8528</td> <td> 2048.236</td> <td>   -0.476</td> <td> 0.637</td> <td>-5137.369</td> <td> 3187.664</td>\n",
              "</tr>\n",
              "<tr>\n",
              "  <th>MEDSCHYR</th> <td>-3419.4063</td> <td> 2325.939</td> <td>   -1.470</td> <td> 0.151</td> <td>-8146.283</td> <td> 1307.471</td>\n",
              "</tr>\n",
              "<tr>\n",
              "  <th>MEDHVL</th>   <td> 3526.3996</td> <td> 2017.846</td> <td>    1.748</td> <td> 0.090</td> <td> -574.357</td> <td> 7627.157</td>\n",
              "</tr>\n",
              "<tr>\n",
              "  <th>PRCRENT</th>  <td>-1167.7798</td> <td> 2710.266</td> <td>   -0.431</td> <td> 0.669</td> <td>-6675.703</td> <td> 4340.143</td>\n",
              "</tr>\n",
              "<tr>\n",
              "  <th>HHMEDAGE</th> <td> -952.0222</td> <td> 2425.831</td> <td>   -0.392</td> <td> 0.697</td> <td>-5881.904</td> <td> 3977.859</td>\n",
              "</tr>\n",
              "<tr>\n",
              "  <th>POP</th>      <td> 7565.0431</td> <td> 1916.787</td> <td>    3.947</td> <td> 0.000</td> <td> 3669.664</td> <td> 1.15e+04</td>\n",
              "</tr>\n",
              "</table>\n",
              "<table class=\"simpletable\">\n",
              "<tr>\n",
              "  <th>Omnibus:</th>       <td>11.113</td> <th>  Durbin-Watson:     </th> <td>   0.508</td>\n",
              "</tr>\n",
              "<tr>\n",
              "  <th>Prob(Omnibus):</th> <td> 0.004</td> <th>  Jarque-Bera (JB):  </th> <td>  13.550</td>\n",
              "</tr>\n",
              "<tr>\n",
              "  <th>Skew:</th>          <td> 0.822</td> <th>  Prob(JB):          </th> <td> 0.00114</td>\n",
              "</tr>\n",
              "<tr>\n",
              "  <th>Kurtosis:</th>      <td> 5.330</td> <th>  Cond. No.          </th> <td>    5.43</td>\n",
              "</tr>\n",
              "</table><br/><br/>Warnings:<br/>[1] Standard Errors assume that the covariance matrix of the errors is correctly specified."
            ],
            "text/plain": [
              "<class 'statsmodels.iolib.summary.Summary'>\n",
              "\"\"\"\n",
              "                            OLS Regression Results                            \n",
              "==============================================================================\n",
              "Dep. Variable:                  SALES   R-squared:                       0.212\n",
              "Model:                            OLS   Adj. R-squared:                  0.096\n",
              "Method:                 Least Squares   F-statistic:                     1.828\n",
              "Date:                Mon, 30 Mar 2020   Prob (F-statistic):              0.134\n",
              "Time:                        09:11:59   Log-Likelihood:                -412.30\n",
              "No. Observations:                  40   AIC:                             836.6\n",
              "Df Residuals:                      34   BIC:                             846.7\n",
              "Df Model:                           5                                         \n",
              "Covariance Type:            nonrobust                                         \n",
              "==============================================================================\n",
              "                 coef    std err          t      P>|t|      [0.025      0.975]\n",
              "------------------------------------------------------------------------------\n",
              "PERPERHH    -974.8528   2048.236     -0.476      0.637   -5137.369    3187.664\n",
              "MEDSCHYR   -3419.4063   2325.939     -1.470      0.151   -8146.283    1307.471\n",
              "MEDHVL      3526.3996   2017.846      1.748      0.090    -574.357    7627.157\n",
              "PRCRENT    -1167.7798   2710.266     -0.431      0.669   -6675.703    4340.143\n",
              "HHMEDAGE    -952.0222   2425.831     -0.392      0.697   -5881.904    3977.859\n",
              "POP         7565.0431   1916.787      3.947      0.000    3669.664    1.15e+04\n",
              "==============================================================================\n",
              "Omnibus:                       11.113   Durbin-Watson:                   0.508\n",
              "Prob(Omnibus):                  0.004   Jarque-Bera (JB):               13.550\n",
              "Skew:                           0.822   Prob(JB):                      0.00114\n",
              "Kurtosis:                       5.330   Cond. No.                         5.43\n",
              "==============================================================================\n",
              "\n",
              "Warnings:\n",
              "[1] Standard Errors assume that the covariance matrix of the errors is correctly specified.\n",
              "\"\"\""
            ]
          },
          "metadata": {
            "tags": []
          },
          "execution_count": 29
        }
      ]
    },
    {
      "cell_type": "code",
      "metadata": {
        "id": "TvYvhgadtXmw",
        "colab_type": "code",
        "colab": {}
      },
      "source": [
        "mdl = sklearn.linear_model.LinearRegression(fit_intercept=True).fit(x_new_train, y_train)\n",
        "y_hat = mdl.predict(x_new_test)"
      ],
      "execution_count": 0,
      "outputs": []
    },
    {
      "cell_type": "code",
      "metadata": {
        "id": "eVvJtMt2tXjq",
        "colab_type": "code",
        "outputId": "16290468-46fb-4048-a976-b8bca0d1b810",
        "colab": {
          "base_uri": "https://localhost:8080/",
          "height": 34
        }
      },
      "source": [
        "metrics.r2_score(y_test, y_hat)"
      ],
      "execution_count": 36,
      "outputs": [
        {
          "output_type": "execute_result",
          "data": {
            "text/plain": [
              "0.7301396418476942"
            ]
          },
          "metadata": {
            "tags": []
          },
          "execution_count": 36
        }
      ]
    },
    {
      "cell_type": "code",
      "metadata": {
        "id": "27Z7wSLNtXhP",
        "colab_type": "code",
        "outputId": "753011ef-4129-47b7-d288-73b386493d80",
        "colab": {
          "base_uri": "https://localhost:8080/",
          "height": 34
        }
      },
      "source": [
        "resid = y_test - y_hat\n",
        "resid.name = ''\n",
        "resid.var()"
      ],
      "execution_count": 37,
      "outputs": [
        {
          "output_type": "execute_result",
          "data": {
            "text/plain": [
              "16154313.812979102"
            ]
          },
          "metadata": {
            "tags": []
          },
          "execution_count": 37
        }
      ]
    },
    {
      "cell_type": "code",
      "metadata": {
        "id": "n3gxCBUltXL2",
        "colab_type": "code",
        "outputId": "5976c090-dab6-4294-c290-29a0df44d57a",
        "colab": {
          "base_uri": "https://localhost:8080/",
          "height": 282
        }
      },
      "source": [
        "sns.distplot(resid)"
      ],
      "execution_count": 38,
      "outputs": [
        {
          "output_type": "execute_result",
          "data": {
            "text/plain": [
              "<matplotlib.axes._subplots.AxesSubplot at 0x7f0673521cf8>"
            ]
          },
          "metadata": {
            "tags": []
          },
          "execution_count": 38
        },
        {
          "output_type": "display_data",
          "data": {
            "image/png": "[encoded data removed]",
            "text/plain": [
              "<Figure size 432x288 with 1 Axes>"
            ]
          },
          "metadata": {
            "tags": []
          }
        }
      ]
    },
    {
      "cell_type": "code",
      "metadata": {
        "id": "79PwdWMOxn-4",
        "colab_type": "code",
        "colab": {}
      },
      "source": [
        "xx_norm = (xx - xx.mean())/xx.std()\n",
        "y_norm = (y-y.mean())/y.std()\n",
        "xx1_train, xx1_test, y_norm_train, y_norm_test = train_test_split(xx_norm,y_norm, train_size=0.8, shuffle=False)\n",
        "mdl2 = sklearn.linear_model.LinearRegression().fit(xx1_train, y_norm_train)"
      ],
      "execution_count": 0,
      "outputs": []
    },
    {
      "cell_type": "code",
      "metadata": {
        "id": "MK8DNgPDxcTv",
        "colab_type": "code",
        "colab": {
          "base_uri": "https://localhost:8080/",
          "height": 234
        },
        "outputId": "f5eb65f3-f41d-45e4-bb52-917b8c453151"
      },
      "source": [
        "dff = pd.DataFrame()\n",
        "dff['features'] = xx.columns\n",
        "dff['coef'] = mdl.coef_\n",
        "dff['normalized coef'] = mdl2.coef_\n",
        "dff"
      ],
      "execution_count": 45,
      "outputs": [
        {
          "output_type": "execute_result",
          "data": {
            "text/html": [
              "<div>\n",
              "<style scoped>\n",
              "    .dataframe tbody tr th:only-of-type {\n",
              "        vertical-align: middle;\n",
              "    }\n",
              "\n",
              "    .dataframe tbody tr th {\n",
              "        vertical-align: top;\n",
              "    }\n",
              "\n",
              "    .dataframe thead th {\n",
              "        text-align: right;\n",
              "    }\n",
              "</style>\n",
              "<table border=\"1\" class=\"dataframe\">\n",
              "  <thead>\n",
              "    <tr style=\"text-align: right;\">\n",
              "      <th></th>\n",
              "      <th>features</th>\n",
              "      <th>coef</th>\n",
              "      <th>normalized coef</th>\n",
              "    </tr>\n",
              "  </thead>\n",
              "  <tbody>\n",
              "    <tr>\n",
              "      <th>0</th>\n",
              "      <td>PERPERHH</td>\n",
              "      <td>-939.943809</td>\n",
              "      <td>-0.115999</td>\n",
              "    </tr>\n",
              "    <tr>\n",
              "      <th>1</th>\n",
              "      <td>MEDSCHYR</td>\n",
              "      <td>-2653.819122</td>\n",
              "      <td>-0.327510</td>\n",
              "    </tr>\n",
              "    <tr>\n",
              "      <th>2</th>\n",
              "      <td>MEDHVL</td>\n",
              "      <td>2920.940485</td>\n",
              "      <td>0.360476</td>\n",
              "    </tr>\n",
              "    <tr>\n",
              "      <th>3</th>\n",
              "      <td>PRCRENT</td>\n",
              "      <td>-896.861939</td>\n",
              "      <td>-0.110683</td>\n",
              "    </tr>\n",
              "    <tr>\n",
              "      <th>4</th>\n",
              "      <td>HHMEDAGE</td>\n",
              "      <td>126.702799</td>\n",
              "      <td>0.015637</td>\n",
              "    </tr>\n",
              "    <tr>\n",
              "      <th>5</th>\n",
              "      <td>POP</td>\n",
              "      <td>7724.929080</td>\n",
              "      <td>0.953340</td>\n",
              "    </tr>\n",
              "  </tbody>\n",
              "</table>\n",
              "</div>"
            ],
            "text/plain": [
              "   features         coef  normalized coef\n",
              "0  PERPERHH  -939.943809        -0.115999\n",
              "1  MEDSCHYR -2653.819122        -0.327510\n",
              "2    MEDHVL  2920.940485         0.360476\n",
              "3   PRCRENT  -896.861939        -0.110683\n",
              "4  HHMEDAGE   126.702799         0.015637\n",
              "5       POP  7724.929080         0.953340"
            ]
          },
          "metadata": {
            "tags": []
          },
          "execution_count": 45
        }
      ]
    },
    {
      "cell_type": "markdown",
      "metadata": {
        "id": "0lQmdEiL71Se",
        "colab_type": "text"
      },
      "source": [
        "# OLS\n",
        "\n",
        "Y = SALES"
      ]
    },
    {
      "cell_type": "code",
      "metadata": {
        "pycharm": {
          "is_executing": false
        },
        "id": "DqjX9wCM71Sf",
        "colab_type": "code",
        "colab": {}
      },
      "source": [
        "# model\n",
        "model = lm.OLS(y_train, exog=x_train, hasconst=True)\n",
        "res = model.fit()"
      ],
      "execution_count": 0,
      "outputs": []
    },
    {
      "cell_type": "code",
      "metadata": {
        "id": "xcNak_zmq9lH",
        "colab_type": "code",
        "outputId": "b4f4c1db-1e7c-4e9c-d1b5-b32ae816d7be",
        "colab": {
          "base_uri": "https://localhost:8080/",
          "height": 603
        }
      },
      "source": [
        "res.summary(yname='SALES')"
      ],
      "execution_count": 112,
      "outputs": [
        {
          "output_type": "execute_result",
          "data": {
            "text/html": [
              "<table class=\"simpletable\">\n",
              "<caption>OLS Regression Results</caption>\n",
              "<tr>\n",
              "  <th>Dep. Variable:</th>          <td>SALES</td>      <th>  R-squared:         </th> <td>   0.832</td>\n",
              "</tr>\n",
              "<tr>\n",
              "  <th>Model:</th>                   <td>OLS</td>       <th>  Adj. R-squared:    </th> <td>   0.795</td>\n",
              "</tr>\n",
              "<tr>\n",
              "  <th>Method:</th>             <td>Least Squares</td>  <th>  F-statistic:       </th> <td>   22.62</td>\n",
              "</tr>\n",
              "<tr>\n",
              "  <th>Date:</th>             <td>Mon, 30 Mar 2020</td> <th>  Prob (F-statistic):</th> <td>1.05e-10</td>\n",
              "</tr>\n",
              "<tr>\n",
              "  <th>Time:</th>                 <td>12:47:21</td>     <th>  Log-Likelihood:    </th> <td> -381.40</td>\n",
              "</tr>\n",
              "<tr>\n",
              "  <th>No. Observations:</th>      <td>    40</td>      <th>  AIC:               </th> <td>   778.8</td>\n",
              "</tr>\n",
              "<tr>\n",
              "  <th>Df Residuals:</th>          <td>    32</td>      <th>  BIC:               </th> <td>   792.3</td>\n",
              "</tr>\n",
              "<tr>\n",
              "  <th>Df Model:</th>              <td>     7</td>      <th>                     </th>     <td> </td>   \n",
              "</tr>\n",
              "<tr>\n",
              "  <th>Covariance Type:</th>      <td>nonrobust</td>    <th>                     </th>     <td> </td>   \n",
              "</tr>\n",
              "</table>\n",
              "<table class=\"simpletable\">\n",
              "<tr>\n",
              "      <td></td>        <th>coef</th>     <th>std err</th>      <th>t</th>      <th>P>|t|</th>  <th>[0.025</th>    <th>0.975]</th>  \n",
              "</tr>\n",
              "<tr>\n",
              "  <th>PERPERHH</th> <td>  518.1475</td> <td> 3720.486</td> <td>    0.139</td> <td> 0.890</td> <td>-7060.234</td> <td> 8096.530</td>\n",
              "</tr>\n",
              "<tr>\n",
              "  <th>MEDSCHYR</th> <td>-2557.6464</td> <td> 1532.893</td> <td>   -1.669</td> <td> 0.105</td> <td>-5680.047</td> <td>  564.755</td>\n",
              "</tr>\n",
              "<tr>\n",
              "  <th>MEDHVL</th>   <td>  126.9907</td> <td>   75.316</td> <td>    1.686</td> <td> 0.102</td> <td>  -26.423</td> <td>  280.405</td>\n",
              "</tr>\n",
              "<tr>\n",
              "  <th>PRCRENT</th>  <td>  -38.2644</td> <td>  135.524</td> <td>   -0.282</td> <td> 0.779</td> <td> -314.319</td> <td>  237.790</td>\n",
              "</tr>\n",
              "<tr>\n",
              "  <th>PRC55P</th>   <td> -299.2607</td> <td>  424.048</td> <td>   -0.706</td> <td> 0.485</td> <td>-1163.017</td> <td>  564.496</td>\n",
              "</tr>\n",
              "<tr>\n",
              "  <th>HHMEDAGE</th> <td>  785.7136</td> <td>  601.491</td> <td>    1.306</td> <td> 0.201</td> <td> -439.483</td> <td> 2010.910</td>\n",
              "</tr>\n",
              "<tr>\n",
              "  <th>MEDINC</th>   <td>  -32.3296</td> <td>  158.668</td> <td>   -0.204</td> <td> 0.840</td> <td> -355.525</td> <td>  290.866</td>\n",
              "</tr>\n",
              "<tr>\n",
              "  <th>POP</th>      <td>    0.6979</td> <td>    0.082</td> <td>    8.477</td> <td> 0.000</td> <td>    0.530</td> <td>    0.866</td>\n",
              "</tr>\n",
              "</table>\n",
              "<table class=\"simpletable\">\n",
              "<tr>\n",
              "  <th>Omnibus:</th>       <td>23.116</td> <th>  Durbin-Watson:     </th> <td>   2.714</td>\n",
              "</tr>\n",
              "<tr>\n",
              "  <th>Prob(Omnibus):</th> <td> 0.000</td> <th>  Jarque-Bera (JB):  </th> <td>  54.188</td>\n",
              "</tr>\n",
              "<tr>\n",
              "  <th>Skew:</th>          <td> 1.349</td> <th>  Prob(JB):          </th> <td>1.71e-12</td>\n",
              "</tr>\n",
              "<tr>\n",
              "  <th>Kurtosis:</th>      <td> 8.023</td> <th>  Cond. No.          </th> <td>9.06e+04</td>\n",
              "</tr>\n",
              "</table><br/><br/>Warnings:<br/>[1] Standard Errors assume that the covariance matrix of the errors is correctly specified.<br/>[2] The condition number is large, 9.06e+04. This might indicate that there are<br/>strong multicollinearity or other numerical problems."
            ],
            "text/plain": [
              "<class 'statsmodels.iolib.summary.Summary'>\n",
              "\"\"\"\n",
              "                            OLS Regression Results                            \n",
              "==============================================================================\n",
              "Dep. Variable:                  SALES   R-squared:                       0.832\n",
              "Model:                            OLS   Adj. R-squared:                  0.795\n",
              "Method:                 Least Squares   F-statistic:                     22.62\n",
              "Date:                Mon, 30 Mar 2020   Prob (F-statistic):           1.05e-10\n",
              "Time:                        12:47:21   Log-Likelihood:                -381.40\n",
              "No. Observations:                  40   AIC:                             778.8\n",
              "Df Residuals:                      32   BIC:                             792.3\n",
              "Df Model:                           7                                         \n",
              "Covariance Type:            nonrobust                                         \n",
              "==============================================================================\n",
              "                 coef    std err          t      P>|t|      [0.025      0.975]\n",
              "------------------------------------------------------------------------------\n",
              "PERPERHH     518.1475   3720.486      0.139      0.890   -7060.234    8096.530\n",
              "MEDSCHYR   -2557.6464   1532.893     -1.669      0.105   -5680.047     564.755\n",
              "MEDHVL       126.9907     75.316      1.686      0.102     -26.423     280.405\n",
              "PRCRENT      -38.2644    135.524     -0.282      0.779    -314.319     237.790\n",
              "PRC55P      -299.2607    424.048     -0.706      0.485   -1163.017     564.496\n",
              "HHMEDAGE     785.7136    601.491      1.306      0.201    -439.483    2010.910\n",
              "MEDINC       -32.3296    158.668     -0.204      0.840    -355.525     290.866\n",
              "POP            0.6979      0.082      8.477      0.000       0.530       0.866\n",
              "==============================================================================\n",
              "Omnibus:                       23.116   Durbin-Watson:                   2.714\n",
              "Prob(Omnibus):                  0.000   Jarque-Bera (JB):               54.188\n",
              "Skew:                           1.349   Prob(JB):                     1.71e-12\n",
              "Kurtosis:                       8.023   Cond. No.                     9.06e+04\n",
              "==============================================================================\n",
              "\n",
              "Warnings:\n",
              "[1] Standard Errors assume that the covariance matrix of the errors is correctly specified.\n",
              "[2] The condition number is large, 9.06e+04. This might indicate that there are\n",
              "strong multicollinearity or other numerical problems.\n",
              "\"\"\""
            ]
          },
          "metadata": {
            "tags": []
          },
          "execution_count": 112
        }
      ]
    },
    {
      "cell_type": "code",
      "metadata": {
        "pycharm": {
          "is_executing": false
        },
        "id": "9deaGL2-71So",
        "colab_type": "code",
        "colab": {}
      },
      "source": [
        "# make a forecast\n",
        "y_hat = res.predict(x_test)"
      ],
      "execution_count": 0,
      "outputs": []
    },
    {
      "cell_type": "code",
      "metadata": {
        "pycharm": {
          "is_executing": false
        },
        "id": "0qA-mEmP71Sx",
        "colab_type": "code",
        "outputId": "c0f0f3d8-04ba-44fc-cd81-d089dd935ca0",
        "colab": {
          "base_uri": "https://localhost:8080/",
          "height": 34
        }
      },
      "source": [
        "# determination\n",
        "metrics.r2_score(y_test, y_hat)"
      ],
      "execution_count": 114,
      "outputs": [
        {
          "output_type": "execute_result",
          "data": {
            "text/plain": [
              "0.7778281846942892"
            ]
          },
          "metadata": {
            "tags": []
          },
          "execution_count": 114
        }
      ]
    },
    {
      "cell_type": "code",
      "metadata": {
        "id": "BNTA7X40KaqN",
        "colab_type": "code",
        "outputId": "a3d8f8c9-2209-492c-f4aa-b087f88f48e2",
        "colab": {
          "base_uri": "https://localhost:8080/",
          "height": 34
        }
      },
      "source": [
        "metrics.explained_variance_score(y_test, y_hat)"
      ],
      "execution_count": 115,
      "outputs": [
        {
          "output_type": "execute_result",
          "data": {
            "text/plain": [
              "0.8007485902856311"
            ]
          },
          "metadata": {
            "tags": []
          },
          "execution_count": 115
        }
      ]
    },
    {
      "cell_type": "code",
      "metadata": {
        "pycharm": {
          "is_executing": false
        },
        "id": "Wtn-Rl1F71St",
        "colab_type": "code",
        "outputId": "f06ba14c-7fcc-4b2b-f409-75ca96de90e1",
        "colab": {
          "base_uri": "https://localhost:8080/",
          "height": 623
        }
      },
      "source": [
        "# predicted vs actual\n",
        "fig, ax = plt.subplots(figsize=(10,10))\n",
        "ax.plot(y_hat, y_test, 'o')\n",
        "# ax.plot([0, 0], [20000, 20000], 'k', lw=4, color='orange')\n",
        "ax.set_xlabel('Predicted')\n",
        "ax.set_ylabel('Actual')"
      ],
      "execution_count": 116,
      "outputs": [
        {
          "output_type": "execute_result",
          "data": {
            "text/plain": [
              "Text(0, 0.5, 'Actual')"
            ]
          },
          "metadata": {
            "tags": []
          },
          "execution_count": 116
        },
        {
          "output_type": "display_data",
          "data": {
            "image/png": "[encoded data removed]",
            "text/plain": [
              "<Figure size 720x720 with 1 Axes>"
            ]
          },
          "metadata": {
            "tags": []
          }
        }
      ]
    },
    {
      "cell_type": "code",
      "metadata": {
        "pycharm": {
          "is_executing": false
        },
        "id": "LKj8Mfka71S0",
        "colab_type": "code",
        "outputId": "26f0492d-9e4d-4e9b-fa84-3e23dac2ba41",
        "colab": {
          "base_uri": "https://localhost:8080/",
          "height": 34
        }
      },
      "source": [
        "# residuals\n",
        "resid = (y_test - y_hat)\n",
        "resid.name = ''\n",
        "resid.std()"
      ],
      "execution_count": 117,
      "outputs": [
        {
          "output_type": "execute_result",
          "data": {
            "text/plain": [
              "3484.262609473212"
            ]
          },
          "metadata": {
            "tags": []
          },
          "execution_count": 117
        }
      ]
    },
    {
      "cell_type": "code",
      "metadata": {
        "id": "OHjeX2KQ_QCO",
        "colab_type": "code",
        "outputId": "d13ca4a3-ae79-4f8c-aa92-433fd0dd9a7d",
        "colab": {
          "base_uri": "https://localhost:8080/",
          "height": 282
        }
      },
      "source": [
        "sns.distplot(resid)"
      ],
      "execution_count": 118,
      "outputs": [
        {
          "output_type": "execute_result",
          "data": {
            "text/plain": [
              "<matplotlib.axes._subplots.AxesSubplot at 0x7f066da73c88>"
            ]
          },
          "metadata": {
            "tags": []
          },
          "execution_count": 118
        },
        {
          "output_type": "display_data",
          "data": {
            "image/png": "[encoded data removed]",
            "text/plain": [
              "<Figure size 432x288 with 1 Axes>"
            ]
          },
          "metadata": {
            "tags": []
          }
        }
      ]
    },
    {
      "cell_type": "code",
      "metadata": {
        "id": "iOkGmSBFM4Fw",
        "colab_type": "code",
        "outputId": "e35c5051-46ae-4ad9-e616-8aa7e7a1622d",
        "colab": {
          "base_uri": "https://localhost:8080/",
          "height": 34
        }
      },
      "source": [
        "# variance estimation of OLS\n",
        "resid.var()"
      ],
      "execution_count": 119,
      "outputs": [
        {
          "output_type": "execute_result",
          "data": {
            "text/plain": [
              "12140085.931773074"
            ]
          },
          "metadata": {
            "tags": []
          },
          "execution_count": 119
        }
      ]
    },
    {
      "cell_type": "code",
      "metadata": {
        "id": "pm-VTGGXvXO3",
        "colab_type": "code",
        "colab": {}
      },
      "source": [
        "m2 = sklearn.linear_model.LinearRegression().fit(x_train, y_train)\n",
        "y_hat2 = m2.predict(x_test)"
      ],
      "execution_count": 0,
      "outputs": []
    },
    {
      "cell_type": "code",
      "metadata": {
        "id": "xFRosaGivmjL",
        "colab_type": "code",
        "colab": {
          "base_uri": "https://localhost:8080/",
          "height": 34
        },
        "outputId": "949e26e0-127b-4e9d-f223-046ed3f44e6e"
      },
      "source": [
        "resid2 = y_test-y_hat2\n",
        "resid2.var()"
      ],
      "execution_count": 121,
      "outputs": [
        {
          "output_type": "execute_result",
          "data": {
            "text/plain": [
              "15882277.172008932"
            ]
          },
          "metadata": {
            "tags": []
          },
          "execution_count": 121
        }
      ]
    },
    {
      "cell_type": "code",
      "metadata": {
        "id": "UjPGzul3vn5V",
        "colab_type": "code",
        "colab": {
          "base_uri": "https://localhost:8080/",
          "height": 34
        },
        "outputId": "4c852b53-bf4f-45d3-ea71-a29ba973908a"
      },
      "source": [
        "metrics.r2_score(y_test, y_hat2)"
      ],
      "execution_count": 122,
      "outputs": [
        {
          "output_type": "execute_result",
          "data": {
            "text/plain": [
              "0.7324943873870193"
            ]
          },
          "metadata": {
            "tags": []
          },
          "execution_count": 122
        }
      ]
    },
    {
      "cell_type": "markdown",
      "metadata": {
        "id": "9CS62AIG6yk8",
        "colab_type": "text"
      },
      "source": [
        "# Ridge regression\n"
      ]
    },
    {
      "cell_type": "code",
      "metadata": {
        "id": "xcc79i486zFJ",
        "colab_type": "code",
        "outputId": "3dc83da7-2915-472d-f05e-e6d5cd426d48",
        "colab": {
          "base_uri": "https://localhost:8080/",
          "height": 1000
        }
      },
      "source": [
        "df2 = pd.DataFrame()\n",
        "alphas = [20, 10, 5, 2, 1.5, 1, 0.5, 0.1, 0.05]\n",
        "df2['alpha'] = alphas\n",
        "r2s = []\n",
        "var = []\n",
        "n = len(df2['alpha'])\n",
        "fig, axes = plt.subplots(nrows=n//2+1, ncols=2, figsize=(16, 5*(n//2 + 1)))\n",
        "i = 0\n",
        "for j in range(n//2+1):\n",
        "    for k in range(2):\n",
        "        alpha = alphas[i]\n",
        "        mdl = model.fit_regularized(alpha=alpha, L1_wt=0)\n",
        "        y_hat = mdl.predict(x_test)\n",
        "        r2s.append(metrics.r2_score(\n",
        "            y_test, \n",
        "            y_hat\n",
        "            ))\n",
        "        resid = y_test-y_hat\n",
        "        var.append(resid.var())\n",
        "        sns.distplot(resid, ax=axes[j,k])\n",
        "        axes[j,k].set_title(f'aplha={alpha}')\n",
        "        axes[j,k].set_xlabel('')\n",
        "        i += 1\n",
        "df2['r2'] = r2s\n",
        "df2['var'] = var\n",
        "# df2"
      ],
      "execution_count": 54,
      "outputs": [
        {
          "output_type": "error",
          "ename": "IndexError",
          "evalue": "ignored",
          "traceback": [
            "\u001b[0;31m---------------------------------------------------------------------------\u001b[0m",
            "\u001b[0;31mIndexError\u001b[0m                                Traceback (most recent call last)",
            "\u001b[0;32m<ipython-input-54-62aa98fdbf3f>\u001b[0m in \u001b[0;36m<module>\u001b[0;34m()\u001b[0m\n\u001b[1;32m      9\u001b[0m \u001b[0;32mfor\u001b[0m \u001b[0mj\u001b[0m \u001b[0;32min\u001b[0m \u001b[0mrange\u001b[0m\u001b[0;34m(\u001b[0m\u001b[0mn\u001b[0m\u001b[0;34m//\u001b[0m\u001b[0;36m2\u001b[0m\u001b[0;34m+\u001b[0m\u001b[0;36m1\u001b[0m\u001b[0;34m)\u001b[0m\u001b[0;34m:\u001b[0m\u001b[0;34m\u001b[0m\u001b[0;34m\u001b[0m\u001b[0m\n\u001b[1;32m     10\u001b[0m     \u001b[0;32mfor\u001b[0m \u001b[0mk\u001b[0m \u001b[0;32min\u001b[0m \u001b[0mrange\u001b[0m\u001b[0;34m(\u001b[0m\u001b[0;36m2\u001b[0m\u001b[0;34m)\u001b[0m\u001b[0;34m:\u001b[0m\u001b[0;34m\u001b[0m\u001b[0;34m\u001b[0m\u001b[0m\n\u001b[0;32m---> 11\u001b[0;31m         \u001b[0malpha\u001b[0m \u001b[0;34m=\u001b[0m \u001b[0malphas\u001b[0m\u001b[0;34m[\u001b[0m\u001b[0mi\u001b[0m\u001b[0;34m]\u001b[0m\u001b[0;34m\u001b[0m\u001b[0;34m\u001b[0m\u001b[0m\n\u001b[0m\u001b[1;32m     12\u001b[0m         \u001b[0mmdl\u001b[0m \u001b[0;34m=\u001b[0m \u001b[0mmodel\u001b[0m\u001b[0;34m.\u001b[0m\u001b[0mfit_regularized\u001b[0m\u001b[0;34m(\u001b[0m\u001b[0malpha\u001b[0m\u001b[0;34m=\u001b[0m\u001b[0malpha\u001b[0m\u001b[0;34m,\u001b[0m \u001b[0mL1_wt\u001b[0m\u001b[0;34m=\u001b[0m\u001b[0;36m0\u001b[0m\u001b[0;34m)\u001b[0m\u001b[0;34m\u001b[0m\u001b[0;34m\u001b[0m\u001b[0m\n\u001b[1;32m     13\u001b[0m         \u001b[0my_hat\u001b[0m \u001b[0;34m=\u001b[0m \u001b[0mmdl\u001b[0m\u001b[0;34m.\u001b[0m\u001b[0mpredict\u001b[0m\u001b[0;34m(\u001b[0m\u001b[0mx_test\u001b[0m\u001b[0;34m)\u001b[0m\u001b[0;34m\u001b[0m\u001b[0;34m\u001b[0m\u001b[0m\n",
            "\u001b[0;31mIndexError\u001b[0m: list index out of range"
          ]
        },
        {
          "output_type": "display_data",
          "data": {
            "image/png": "[encoded data removed]",
            "text/plain": [
              "<Figure size 1152x1800 with 10 Axes>"
            ]
          },
          "metadata": {
            "tags": []
          }
        }
      ]
    },
    {
      "cell_type": "code",
      "metadata": {
        "id": "hdhwFOSK_3em",
        "colab_type": "code",
        "outputId": "52764501-47f5-438e-d7fc-0baf806ff816",
        "colab": {
          "base_uri": "https://localhost:8080/",
          "height": 327
        }
      },
      "source": [
        "df2"
      ],
      "execution_count": 0,
      "outputs": [
        {
          "output_type": "execute_result",
          "data": {
            "text/html": [
              "<div>\n",
              "<style scoped>\n",
              "    .dataframe tbody tr th:only-of-type {\n",
              "        vertical-align: middle;\n",
              "    }\n",
              "\n",
              "    .dataframe tbody tr th {\n",
              "        vertical-align: top;\n",
              "    }\n",
              "\n",
              "    .dataframe thead th {\n",
              "        text-align: right;\n",
              "    }\n",
              "</style>\n",
              "<table border=\"1\" class=\"dataframe\">\n",
              "  <thead>\n",
              "    <tr style=\"text-align: right;\">\n",
              "      <th></th>\n",
              "      <th>alpha</th>\n",
              "      <th>r2</th>\n",
              "      <th>var</th>\n",
              "    </tr>\n",
              "  </thead>\n",
              "  <tbody>\n",
              "    <tr>\n",
              "      <th>0</th>\n",
              "      <td>20.00</td>\n",
              "      <td>0.806863</td>\n",
              "      <td>1.095476e+07</td>\n",
              "    </tr>\n",
              "    <tr>\n",
              "      <th>1</th>\n",
              "      <td>10.00</td>\n",
              "      <td>0.792951</td>\n",
              "      <td>1.183824e+07</td>\n",
              "    </tr>\n",
              "    <tr>\n",
              "      <th>2</th>\n",
              "      <td>5.00</td>\n",
              "      <td>0.784095</td>\n",
              "      <td>1.238767e+07</td>\n",
              "    </tr>\n",
              "    <tr>\n",
              "      <th>3</th>\n",
              "      <td>2.00</td>\n",
              "      <td>0.779995</td>\n",
              "      <td>1.261717e+07</td>\n",
              "    </tr>\n",
              "    <tr>\n",
              "      <th>4</th>\n",
              "      <td>1.50</td>\n",
              "      <td>0.780237</td>\n",
              "      <td>1.258695e+07</td>\n",
              "    </tr>\n",
              "    <tr>\n",
              "      <th>5</th>\n",
              "      <td>1.00</td>\n",
              "      <td>0.781601</td>\n",
              "      <td>1.247264e+07</td>\n",
              "    </tr>\n",
              "    <tr>\n",
              "      <th>6</th>\n",
              "      <td>0.50</td>\n",
              "      <td>0.785807</td>\n",
              "      <td>1.213246e+07</td>\n",
              "    </tr>\n",
              "    <tr>\n",
              "      <th>7</th>\n",
              "      <td>0.10</td>\n",
              "      <td>0.790596</td>\n",
              "      <td>1.153349e+07</td>\n",
              "    </tr>\n",
              "    <tr>\n",
              "      <th>8</th>\n",
              "      <td>0.05</td>\n",
              "      <td>0.787614</td>\n",
              "      <td>1.160781e+07</td>\n",
              "    </tr>\n",
              "  </tbody>\n",
              "</table>\n",
              "</div>"
            ],
            "text/plain": [
              "   alpha        r2           var\n",
              "0  20.00  0.806863  1.095476e+07\n",
              "1  10.00  0.792951  1.183824e+07\n",
              "2   5.00  0.784095  1.238767e+07\n",
              "3   2.00  0.779995  1.261717e+07\n",
              "4   1.50  0.780237  1.258695e+07\n",
              "5   1.00  0.781601  1.247264e+07\n",
              "6   0.50  0.785807  1.213246e+07\n",
              "7   0.10  0.790596  1.153349e+07\n",
              "8   0.05  0.787614  1.160781e+07"
            ]
          },
          "metadata": {
            "tags": []
          },
          "execution_count": 35
        }
      ]
    },
    {
      "cell_type": "code",
      "metadata": {
        "id": "Mjs3k49C6zoD",
        "colab_type": "code",
        "outputId": "63a8fc6a-66be-4add-be66-561b948f730d",
        "colab": {
          "base_uri": "https://localhost:8080/",
          "height": 282
        }
      },
      "source": [
        "mdl = lm.Ridge(alpha=10, fit_intercept=False).fit(x_train, y_train)\n",
        "y_hat = mdl.predict(x_test)\n",
        "resid = y_test-y_hat\n",
        "resid.name = ''\n",
        "sns.distplot(resid)"
      ],
      "execution_count": 0,
      "outputs": [
        {
          "output_type": "execute_result",
          "data": {
            "text/plain": [
              "<matplotlib.axes._subplots.AxesSubplot at 0x7f227f5637f0>"
            ]
          },
          "metadata": {
            "tags": []
          },
          "execution_count": 33
        },
        {
          "output_type": "display_data",
          "data": {
            "image/png": "[encoded data removed]",
            "text/plain": [
              "<Figure size 432x288 with 1 Axes>"
            ]
          },
          "metadata": {
            "tags": []
          }
        }
      ]
    },
    {
      "cell_type": "markdown",
      "metadata": {
        "id": "bZpgNRAdg_MP",
        "colab_type": "text"
      },
      "source": [
        "# PCA"
      ]
    },
    {
      "cell_type": "code",
      "metadata": {
        "id": "s0f8KxjF_P3Y",
        "colab_type": "code",
        "colab": {}
      },
      "source": [
        "pc = pca.PCA(x, method='eig')"
      ],
      "execution_count": 0,
      "outputs": []
    },
    {
      "cell_type": "code",
      "metadata": {
        "id": "BuJ8upIHIfmA",
        "colab_type": "code",
        "outputId": "742a295c-4ec8-4eaa-b17e-d35864eb352f",
        "colab": {
          "base_uri": "https://localhost:8080/",
          "height": 34
        }
      },
      "source": [
        "len(x.columns)"
      ],
      "execution_count": 100,
      "outputs": [
        {
          "output_type": "execute_result",
          "data": {
            "text/plain": [
              "8"
            ]
          },
          "metadata": {
            "tags": []
          },
          "execution_count": 100
        }
      ]
    },
    {
      "cell_type": "code",
      "metadata": {
        "id": "8jD9LSmtUn8H",
        "colab_type": "code",
        "outputId": "dbaa0324-d7f9-480c-c5d5-19f207a195db",
        "colab": {
          "base_uri": "https://localhost:8080/",
          "height": 172
        }
      },
      "source": [
        "pc.eigenvals"
      ],
      "execution_count": 101,
      "outputs": [
        {
          "output_type": "execute_result",
          "data": {
            "text/plain": [
              "0    218.192240\n",
              "1     97.623548\n",
              "2     35.521352\n",
              "3     20.860823\n",
              "4     12.451910\n",
              "5      9.462604\n",
              "6      4.697313\n",
              "7      1.190210\n",
              "Name: eigenvals, dtype: float64"
            ]
          },
          "metadata": {
            "tags": []
          },
          "execution_count": 101
        }
      ]
    },
    {
      "cell_type": "code",
      "metadata": {
        "colab_type": "code",
        "id": "qQvuebJeMJ8k",
        "colab": {
          "base_uri": "https://localhost:8080/",
          "height": 581
        },
        "outputId": "406847fd-95f6-4108-f500-0dbf3627a349"
      },
      "source": [
        "pc.plot_rsquare()"
      ],
      "execution_count": 102,
      "outputs": [
        {
          "output_type": "execute_result",
          "data": {
            "image/png": "[encoded data removed]",
            "text/plain": [
              "<Figure size 432x288 with 1 Axes>"
            ]
          },
          "metadata": {
            "tags": []
          },
          "execution_count": 102
        },
        {
          "output_type": "display_data",
          "data": {
            "image/png": "[encoded data removed]",
            "text/plain": [
              "<Figure size 432x288 with 1 Axes>"
            ]
          },
          "metadata": {
            "tags": []
          }
        }
      ]
    },
    {
      "cell_type": "code",
      "metadata": {
        "id": "EwTwj2lnMik8",
        "colab_type": "code",
        "colab": {
          "base_uri": "https://localhost:8080/",
          "height": 577
        },
        "outputId": "c1cb8d59-a1a6-451a-e9b1-4a236c66dff7"
      },
      "source": [
        "pc.plot_scree(log_scale=False)"
      ],
      "execution_count": 103,
      "outputs": [
        {
          "output_type": "execute_result",
          "data": {
            "image/png": "[encoded data removed]",
            "text/plain": [
              "<Figure size 432x288 with 1 Axes>"
            ]
          },
          "metadata": {
            "tags": []
          },
          "execution_count": 103
        },
        {
          "output_type": "display_data",
          "data": {
            "image/png": "[encoded data removed]",
            "text/plain": [
              "<Figure size 432x288 with 1 Axes>"
            ]
          },
          "metadata": {
            "tags": []
          }
        }
      ]
    },
    {
      "cell_type": "code",
      "metadata": {
        "id": "0sEp_B-EJJm8",
        "colab_type": "code",
        "colab": {}
      },
      "source": [
        "x_new = pca.PCA(x, ncomp=3, method='eig').transformed_data"
      ],
      "execution_count": 0,
      "outputs": []
    },
    {
      "cell_type": "code",
      "metadata": {
        "id": "dzR8bYBGKq1w",
        "colab_type": "code",
        "colab": {}
      },
      "source": [
        "x_new_train, x_new_test = train_test_split(x_new, train_size=0.8, shuffle=False)"
      ],
      "execution_count": 0,
      "outputs": []
    },
    {
      "cell_type": "code",
      "metadata": {
        "id": "1LdiSBHTT2Qu",
        "colab_type": "code",
        "outputId": "63203602-a0d5-4efb-b99c-62f1a44f87ec",
        "colab": {
          "base_uri": "https://localhost:8080/",
          "height": 51
        }
      },
      "source": [
        "mdl = sklearn.linear_model.LinearRegression(fit_intercept=True).fit(x_new_train, y_train)\n",
        "mdl.coef_"
      ],
      "execution_count": 106,
      "outputs": [
        {
          "output_type": "execute_result",
          "data": {
            "text/plain": [
              "array([-1024.77354084, -2680.54663391,  3322.89039795,  -994.11114494,\n",
              "       -1364.82416812,  1022.70719787,  -862.19125935,  7673.05455714])"
            ]
          },
          "metadata": {
            "tags": []
          },
          "execution_count": 106
        }
      ]
    },
    {
      "cell_type": "code",
      "metadata": {
        "id": "iFCJyb71WrO7",
        "colab_type": "code",
        "colab": {}
      },
      "source": [
        "y_hat = mdl.predict(x_new_test)"
      ],
      "execution_count": 0,
      "outputs": []
    },
    {
      "cell_type": "code",
      "metadata": {
        "id": "hw6qwjL1WkBK",
        "colab_type": "code",
        "outputId": "5f99bf20-92ff-4336-ebc5-25234462fb7a",
        "colab": {
          "base_uri": "https://localhost:8080/",
          "height": 34
        }
      },
      "source": [
        "metrics.r2_score(y_test, y_hat)"
      ],
      "execution_count": 108,
      "outputs": [
        {
          "output_type": "execute_result",
          "data": {
            "text/plain": [
              "0.7324943873872083"
            ]
          },
          "metadata": {
            "tags": []
          },
          "execution_count": 108
        }
      ]
    },
    {
      "cell_type": "code",
      "metadata": {
        "id": "uqCuklA0W01x",
        "colab_type": "code",
        "outputId": "96b42858-b013-4567-e855-1bb98af209be",
        "colab": {
          "base_uri": "https://localhost:8080/",
          "height": 293
        }
      },
      "source": [
        "resid = y_test - y_hat\n",
        "resid.name = ''\n",
        "sns.distplot(resid)"
      ],
      "execution_count": 109,
      "outputs": [
        {
          "output_type": "execute_result",
          "data": {
            "text/plain": [
              "<matplotlib.axes._subplots.AxesSubplot at 0x7f066db0fc18>"
            ]
          },
          "metadata": {
            "tags": []
          },
          "execution_count": 109
        },
        {
          "output_type": "display_data",
          "data": {
            "image/png": "[encoded data removed]",
            "text/plain": [
              "<Figure size 432x288 with 1 Axes>"
            ]
          },
          "metadata": {
            "tags": []
          }
        }
      ]
    },
    {
      "cell_type": "code",
      "metadata": {
        "id": "SC2SXkZXW0nQ",
        "colab_type": "code",
        "outputId": "b22b60cb-c307-40ad-a861-42cec90456da",
        "colab": {
          "base_uri": "https://localhost:8080/",
          "height": 34
        }
      },
      "source": [
        "resid.var()"
      ],
      "execution_count": 110,
      "outputs": [
        {
          "output_type": "execute_result",
          "data": {
            "text/plain": [
              "15882277.172000004"
            ]
          },
          "metadata": {
            "tags": []
          },
          "execution_count": 110
        }
      ]
    }
  ]
}