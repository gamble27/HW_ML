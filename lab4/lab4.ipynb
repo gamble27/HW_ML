{
 "cells": [
  {
   "cell_type": "code",
   "execution_count": 1,
   "metadata": {
    "collapsed": true
   },
   "outputs": [],
   "source": [
    "import numpy as np\n",
    "import pandas as pd\n",
    "import seaborn as sns\n",
    "import matplotlib.pyplot as plt\n",
    "%matplotlib inline\n",
    "from PMF import PMF\n",
    "from scipy import stats"
   ]
  },
  {
   "cell_type": "code",
   "execution_count": 2,
   "metadata": {
    "pycharm": {
     "name": "#%%\n"
    }
   },
   "outputs": [
    {
     "data": {
      "text/html": [
       "<div>\n",
       "<style scoped>\n",
       "    .dataframe tbody tr th:only-of-type {\n",
       "        vertical-align: middle;\n",
       "    }\n",
       "\n",
       "    .dataframe tbody tr th {\n",
       "        vertical-align: top;\n",
       "    }\n",
       "\n",
       "    .dataframe thead th {\n",
       "        text-align: right;\n",
       "    }\n",
       "</style>\n",
       "<table border=\"1\" class=\"dataframe\">\n",
       "  <thead>\n",
       "    <tr style=\"text-align: right;\">\n",
       "      <th></th>\n",
       "      <th>userID</th>\n",
       "      <th>artistID</th>\n",
       "      <th>weight</th>\n",
       "    </tr>\n",
       "  </thead>\n",
       "  <tbody>\n",
       "    <tr>\n",
       "      <th>0</th>\n",
       "      <td>2</td>\n",
       "      <td>51</td>\n",
       "      <td>13883</td>\n",
       "    </tr>\n",
       "    <tr>\n",
       "      <th>1</th>\n",
       "      <td>2</td>\n",
       "      <td>52</td>\n",
       "      <td>11690</td>\n",
       "    </tr>\n",
       "    <tr>\n",
       "      <th>2</th>\n",
       "      <td>2</td>\n",
       "      <td>53</td>\n",
       "      <td>11351</td>\n",
       "    </tr>\n",
       "    <tr>\n",
       "      <th>3</th>\n",
       "      <td>2</td>\n",
       "      <td>54</td>\n",
       "      <td>10300</td>\n",
       "    </tr>\n",
       "    <tr>\n",
       "      <th>4</th>\n",
       "      <td>2</td>\n",
       "      <td>55</td>\n",
       "      <td>8983</td>\n",
       "    </tr>\n",
       "  </tbody>\n",
       "</table>\n",
       "</div>"
      ],
      "text/plain": [
       "   userID  artistID  weight\n",
       "0       2        51   13883\n",
       "1       2        52   11690\n",
       "2       2        53   11351\n",
       "3       2        54   10300\n",
       "4       2        55    8983"
      ]
     },
     "execution_count": 2,
     "metadata": {},
     "output_type": "execute_result"
    }
   ],
   "source": [
    "df = pd.read_table(\"~/Projects/HW_ML/data/data-filtering/user_artists.dat\")\n",
    "df.head()"
   ]
  },
  {
   "cell_type": "code",
   "execution_count": 8,
   "metadata": {
    "pycharm": {
     "name": "#%%\n"
    }
   },
   "outputs": [
    {
     "data": {
      "image/png": "[encoded data removed]",
      "text/plain": [
       "<Figure size 432x288 with 1 Axes>"
      ]
     },
     "metadata": {
      "needs_background": "light"
     },
     "output_type": "display_data"
    }
   ],
   "source": [
    "d = plt.hist(df['weight'],bins=30)\n",
    "plt.show()"
   ]
  },
  {
   "cell_type": "code",
   "execution_count": 9,
   "metadata": {
    "pycharm": {
     "name": "#%%\n"
    }
   },
   "outputs": [
    {
     "data": {
      "text/plain": [
       "<matplotlib.axes._subplots.AxesSubplot at 0x7ff95bbd2828>"
      ]
     },
     "execution_count": 9,
     "metadata": {},
     "output_type": "execute_result"
    },
    {
     "data": {
      "image/png": "[encoded data removed]",
      "text/plain": [
       "<Figure size 432x288 with 1 Axes>"
      ]
     },
     "metadata": {
      "needs_background": "light"
     },
     "output_type": "display_data"
    }
   ],
   "source": [
    "l = df['weight']\n",
    "s = np.log(np.array(l))\n",
    "sns.distplot(s)"
   ]
  },
  {
   "cell_type": "markdown",
   "metadata": {
    "pycharm": {
     "name": "#%% md\n"
    }
   },
   "source": [
    "seems like I've spotted a log-normal distribution.\n",
    "let's check it with\n",
    "2-sided chi squared test"
   ]
  },
  {
   "cell_type": "code",
   "execution_count": 10,
   "metadata": {
    "pycharm": {
     "name": "#%%\n"
    }
   },
   "outputs": [
    {
     "name": "stdout",
     "output_type": "stream",
     "text": [
      "6148.504596477302\n",
      "0.0\n"
     ]
    }
   ],
   "source": [
    "# s = np.sort(s,axis=0)\n",
    "t = (s-s.mean())/s.var()\n",
    "st, p = stats.normaltest(t)\n",
    "print(st,p,sep='\\n')"
   ]
  },
  {
   "cell_type": "code",
   "execution_count": 13,
   "metadata": {
    "pycharm": {
     "name": "#%%\n"
    }
   },
   "outputs": [
    {
     "name": "stdout",
     "output_type": "stream",
     "text": [
      "6148.504596477302\n",
      "0.0\n"
     ]
    }
   ],
   "source": [
    "wht = list(t)\n",
    "wht.sort()\n",
    "for w in wht:\n",
    "    if w<2:\n",
    "        del w\n",
    "    else:\n",
    "        break\n",
    "wht = np.array(wht)\n",
    "\n",
    "st, p = stats.normaltest(wht)\n",
    "print(st,p,sep='\\n')"
   ]
  },
  {
   "cell_type": "code",
   "execution_count": 14,
   "metadata": {
    "pycharm": {
     "name": "#%%\n"
    }
   },
   "outputs": [
    {
     "name": "stdout",
     "output_type": "stream",
     "text": [
      "0.9772776961326599\n",
      "0.0\n"
     ]
    },
    {
     "name": "stderr",
     "output_type": "stream",
     "text": [
      "/home/olga/Projects/CPI/venv/lib/python3.6/site-packages/scipy/stats/morestats.py:1676: UserWarning: p-value may not be accurate for N > 5000.\n",
      "  warnings.warn(\"p-value may not be accurate for N > 5000.\")\n"
     ]
    }
   ],
   "source": [
    "st, p = stats.shapiro(t)\n",
    "print(st, p, sep='\\n')"
   ]
  },
  {
   "cell_type": "code",
   "execution_count": 15,
   "metadata": {
    "pycharm": {
     "name": "#%%\n"
    }
   },
   "outputs": [
    {
     "name": "stdout",
     "output_type": "stream",
     "text": [
      "260.0\n",
      "745.2439300256372\n",
      "3751.3220803876848\n"
     ]
    }
   ],
   "source": [
    "l = l.sort_values()\n",
    "print(l.median(), l.mean(), l.std(),sep='\\n')"
   ]
  },
  {
   "cell_type": "code",
   "execution_count": 16,
   "metadata": {
    "pycharm": {
     "name": "#%%\n"
    }
   },
   "outputs": [
    {
     "data": {
      "image/png": "[encoded data removed]",
      "text/plain": [
       "<Figure size 432x288 with 1 Axes>"
      ]
     },
     "metadata": {
      "needs_background": "light"
     },
     "output_type": "display_data"
    }
   ],
   "source": [
    "g = l[abs(l-l.median())<l.std()]\n",
    "d=plt.hist(g)\n",
    "plt.show()"
   ]
  },
  {
   "cell_type": "markdown",
   "metadata": {
    "pycharm": {
     "name": "#%% md\n"
    }
   },
   "source": [
    "# Approach 1. Work with rounded ln(X)"
   ]
  },
  {
   "cell_type": "code",
   "execution_count": 3,
   "metadata": {
    "pycharm": {
     "name": "#%%\n"
    }
   },
   "outputs": [],
   "source": [
    "N, M = 1832, 17632\n",
    "N1 = df['userID'].max()\n",
    "M1 = df['artistID'].max()\n",
    "\n",
    "X=np.zeros((N1, M1))\n",
    "for _, row in df.iterrows():\n",
    "    X[row['userID']-1, row['artistID']-1] = np.round(np.log(row['weight']))"
   ]
  },
  {
   "cell_type": "markdown",
   "metadata": {
    "pycharm": {
     "name": "#%% md\n"
    }
   },
   "source": [
    "## the matrix at a glance"
   ]
  },
  {
   "cell_type": "code",
   "execution_count": null,
   "metadata": {
    "pycharm": {
     "name": "#%%\n"
    }
   },
   "outputs": [],
   "source": [
    "X.max()"
   ]
  },
  {
   "cell_type": "code",
   "execution_count": 19,
   "metadata": {
    "pycharm": {
     "name": "#%%\n"
    }
   },
   "outputs": [
    {
     "name": "stdout",
     "output_type": "stream",
     "text": [
      "92198.0 / 32301824 = 0.00285\n"
     ]
    }
   ],
   "source": [
    "Y = X.copy()\n",
    "Y[Y > 0] = 1\n",
    "print(f\"{Y.sum()} / {N*M} = {Y.sum() / (N*M) :.5f}\")"
   ]
  },
  {
   "cell_type": "markdown",
   "metadata": {
    "pycharm": {
     "name": "#%% md\n"
    }
   },
   "source": [
    "## train_test_split & save it"
   ]
  },
  {
   "cell_type": "code",
   "execution_count": 4,
   "metadata": {
    "pycharm": {
     "name": "#%%\n"
    }
   },
   "outputs": [],
   "source": [
    "# X[:20, 40:60] - validation set\n",
    "Y = []\n",
    "for i in range(20):\n",
    "    for j in range(40, 60):\n",
    "        if X[i,j] > 0:\n",
    "            Y.append((i,j,X[i,j]))\n",
    "\n",
    "# Y = np.array(Y)\n",
    "X[:20, 40:60] = np.zeros(X[:20, 40:60].shape)\n",
    "\n",
    "# np.save('/home/olga/Projects/HW_ML/lab4/experiment/x.npy', X)\n",
    "# np.save('/home/olga/Projects/HW_ML/lab4/experiment/y.npy', np.array(Y))"
   ]
  },
  {
   "cell_type": "code",
   "execution_count": 20,
   "metadata": {
    "pycharm": {
     "name": "#%%\n"
    }
   },
   "outputs": [],
   "source": [
    "# this is the pretraining in 2 epochs described briefly\n",
    "\n",
    "# U, V = PMF(X, d=10, l=2, s=1, max_iter=2, print_cost=1)\n",
    "\n",
    "# np.save('/home/olga/Projects/HW_ML/lab4/experiment/u.npy', U)\n",
    "# np.save('/home/olga/Projects/HW_ML/lab4/experiment/v.npy', V)"
   ]
  },
  {
   "cell_type": "code",
   "execution_count": 5,
   "metadata": {
    "pycharm": {
     "name": "#%%\n"
    }
   },
   "outputs": [],
   "source": [
    "def test(u, v, y):\n",
    "    X_hat = u.T @ v\n",
    "\n",
    "    print(\"pred vs true\")\n",
    "    for i, j, x_true in y:\n",
    "        print(f\"{X_hat[i,j]:.2f}    {x_true}\")\n"
   ]
  },
  {
   "cell_type": "code",
   "execution_count": 23,
   "metadata": {
    "pycharm": {
     "name": "#%%\n"
    }
   },
   "outputs": [],
   "source": [
    "# 3-rd epoch\n",
    "U, V = PMF(X, d=10, l=2, s=1, max_iter=1, print_cost=1,\n",
    "           pretrained_u=U, pretrained_v=V)"
   ]
  },
  {
   "cell_type": "code",
   "execution_count": 26,
   "metadata": {
    "pycharm": {
     "name": "#%%\n"
    }
   },
   "outputs": [
    {
     "name": "stdout",
     "output_type": "stream",
     "text": [
      "pred vs true\n",
      "7.67    10.0\n",
      "5.30    9.0\n",
      "6.20    9.0\n",
      "5.79    9.0\n",
      "4.62    9.0\n",
      "5.77    9.0\n",
      "5.15    9.0\n",
      "5.85    8.0\n",
      "6.62    8.0\n",
      "2.24    8.0\n",
      "6.39    5.0\n",
      "5.48    7.0\n",
      "4.85    5.0\n",
      "7.01    8.0\n",
      "1.46    2.0\n",
      "3.72    5.0\n",
      "5.04    5.0\n",
      "3.72    5.0\n"
     ]
    }
   ],
   "source": [
    "test(U, V, Y)"
   ]
  },
  {
   "cell_type": "code",
   "execution_count": 27,
   "metadata": {
    "pycharm": {
     "name": "#%%\n"
    }
   },
   "outputs": [
    {
     "name": "stdout",
     "output_type": "stream",
     "text": [
      "1 iteration cost: 12.00085\n",
      "pred vs true\n",
      "8.20    10.0\n",
      "6.02    9.0\n",
      "6.89    9.0\n",
      "6.47    9.0\n",
      "6.76    9.0\n",
      "6.79    9.0\n",
      "5.85    9.0\n",
      "6.82    8.0\n",
      "7.10    8.0\n",
      "2.76    8.0\n",
      "6.59    5.0\n",
      "5.62    7.0\n",
      "4.98    5.0\n",
      "7.14    8.0\n",
      "1.50    2.0\n",
      "4.27    5.0\n",
      "5.39    5.0\n",
      "5.25    5.0\n"
     ]
    }
   ],
   "source": [
    "# 4-th epoch\n",
    "U, V = PMF(X, d=10, l=2, s=1, max_iter=1, print_cost=1,\n",
    "           pretrained_u=U, pretrained_v=V)\n",
    "test(U, V, Y)\n",
    "\n"
   ]
  },
  {
   "cell_type": "code",
   "execution_count": 6,
   "metadata": {
    "pycharm": {
     "name": "#%%\n"
    }
   },
   "outputs": [
    {
     "name": "stdout",
     "output_type": "stream",
     "text": [
      "1 iteration cost: 11.90382\n",
      "pred vs true\n",
      "8.41    10.0\n",
      "6.35    9.0\n",
      "7.16    9.0\n",
      "6.77    9.0\n",
      "7.82    9.0\n",
      "7.21    9.0\n",
      "6.18    9.0\n",
      "7.23    8.0\n",
      "7.29    8.0\n",
      "3.05    8.0\n",
      "6.67    5.0\n",
      "5.70    7.0\n",
      "5.04    5.0\n",
      "7.22    8.0\n",
      "1.52    2.0\n",
      "4.60    5.0\n",
      "5.53    5.0\n",
      "5.66    5.0\n"
     ]
    }
   ],
   "source": [
    "# 5-th epoch\n",
    "U = np.load('/home/olga/Projects/HW_ML/lab4/experiment/u.npy')\n",
    "V = np.load('/home/olga/Projects/HW_ML/lab4/experiment/v.npy')\n",
    "U, V = PMF(X, d=10, l=2, s=1, max_iter=1, print_cost=1,\n",
    "           pretrained_u=U, pretrained_v=V)\n",
    "test(U, V, Y)"
   ]
  },
  {
   "cell_type": "code",
   "execution_count": null,
   "metadata": {
    "pycharm": {
     "name": "#%%\n"
    }
   },
   "outputs": [],
   "source": [
    "\n"
   ]
  }
 ],
 "metadata": {
  "kernelspec": {
   "display_name": "PyCharm (CPI)",
   "language": "python",
   "name": "pycharm-8300f7de"
  },
  "language_info": {
   "codemirror_mode": {
    "name": "ipython",
    "version": 3
   },
   "file_extension": ".py",
   "mimetype": "text/x-python",
   "name": "python",
   "nbconvert_exporter": "python",
   "pygments_lexer": "ipython3",
   "version": "3.6.8"
  }
 },
 "nbformat": 4,
 "nbformat_minor": 1
}